{
 "cells": [
  {
   "cell_type": "markdown",
   "metadata": {
    "collapsed": true,
    "pycharm": {
     "name": "#%% md\n"
    }
   },
   "source": [
    "Import potrzebnych bibliotek"
   ]
  },
  {
   "cell_type": "code",
   "execution_count": 1,
   "outputs": [],
   "source": [
    "import pandas as pd\n",
    "import xml.etree.ElementTree as ET\n",
    "import xml\n",
    "import os\n",
    "import sklearn\n",
    "from sklearn.preprocessing import OneHotEncoder\n",
    "from sklearn.model_selection import train_test_split\n",
    "from sklearn.preprocessing import StandardScaler\n",
    "from sklearn.pipeline import Pipeline\n",
    "from sklearn.neighbors import KNeighborsClassifier\n",
    "from sklearn.tree import DecisionTreeClassifier\n",
    "from sklearn.ensemble import RandomForestClassifier\n",
    "from sklearn.linear_model import LogisticRegression\n",
    "from sklearn.naive_bayes import GaussianNB\n",
    "from sklearn.svm import SVC\n",
    "\n",
    "import matplotlib.pyplot as plt\n",
    "import seaborn as sns\n",
    "import numpy as np\n",
    "\n",
    "from sklearn.model_selection import train_test_split\n",
    "from sklearn.ensemble import RandomForestClassifier\n",
    "from sklearn.metrics import accuracy_score, confusion_matrix, classification_report\n"
   ],
   "metadata": {
    "collapsed": false,
    "pycharm": {
     "name": "#%%\n"
    }
   }
  },
  {
   "cell_type": "markdown",
   "source": [
    "Pobranie potrzebnych danych"
   ],
   "metadata": {
    "collapsed": false
   }
  },
  {
   "cell_type": "code",
   "execution_count": 2,
   "outputs": [],
   "source": [
    "csv_list = list(os.listdir(r'C:\\Users\\Admin\\Documents\\Inżynierka\\CSV_final'))"
   ],
   "metadata": {
    "collapsed": false,
    "pycharm": {
     "name": "#%%\n"
    }
   }
  },
  {
   "cell_type": "code",
   "execution_count": 3,
   "outputs": [],
   "source": [
    "index = []\n",
    "for i in csv_list:\n",
    "    index.append(i[11:-4])\n"
   ],
   "metadata": {
    "collapsed": false,
    "pycharm": {
     "name": "#%%\n"
    }
   }
  },
  {
   "cell_type": "code",
   "execution_count": 4,
   "outputs": [
    {
     "data": {
      "text/plain": "               y theta intensity\n00-001-0128  NaN   NaN       NaN\n00-001-0478  NaN   NaN       NaN\n00-001-0491  NaN   NaN       NaN\n00-001-0508  NaN   NaN       NaN\n00-001-0550  NaN   NaN       NaN\n...          ...   ...       ...\n04-025-5495  NaN   NaN       NaN\n04-025-7414  NaN   NaN       NaN\n04-025-7475  NaN   NaN       NaN\n05-001-0181  NaN   NaN       NaN\n05-001-0339  NaN   NaN       NaN\n\n[878 rows x 3 columns]",
      "text/html": "<div>\n<style scoped>\n    .dataframe tbody tr th:only-of-type {\n        vertical-align: middle;\n    }\n\n    .dataframe tbody tr th {\n        vertical-align: top;\n    }\n\n    .dataframe thead th {\n        text-align: right;\n    }\n</style>\n<table border=\"1\" class=\"dataframe\">\n  <thead>\n    <tr style=\"text-align: right;\">\n      <th></th>\n      <th>y</th>\n      <th>theta</th>\n      <th>intensity</th>\n    </tr>\n  </thead>\n  <tbody>\n    <tr>\n      <th>00-001-0128</th>\n      <td>NaN</td>\n      <td>NaN</td>\n      <td>NaN</td>\n    </tr>\n    <tr>\n      <th>00-001-0478</th>\n      <td>NaN</td>\n      <td>NaN</td>\n      <td>NaN</td>\n    </tr>\n    <tr>\n      <th>00-001-0491</th>\n      <td>NaN</td>\n      <td>NaN</td>\n      <td>NaN</td>\n    </tr>\n    <tr>\n      <th>00-001-0508</th>\n      <td>NaN</td>\n      <td>NaN</td>\n      <td>NaN</td>\n    </tr>\n    <tr>\n      <th>00-001-0550</th>\n      <td>NaN</td>\n      <td>NaN</td>\n      <td>NaN</td>\n    </tr>\n    <tr>\n      <th>...</th>\n      <td>...</td>\n      <td>...</td>\n      <td>...</td>\n    </tr>\n    <tr>\n      <th>04-025-5495</th>\n      <td>NaN</td>\n      <td>NaN</td>\n      <td>NaN</td>\n    </tr>\n    <tr>\n      <th>04-025-7414</th>\n      <td>NaN</td>\n      <td>NaN</td>\n      <td>NaN</td>\n    </tr>\n    <tr>\n      <th>04-025-7475</th>\n      <td>NaN</td>\n      <td>NaN</td>\n      <td>NaN</td>\n    </tr>\n    <tr>\n      <th>05-001-0181</th>\n      <td>NaN</td>\n      <td>NaN</td>\n      <td>NaN</td>\n    </tr>\n    <tr>\n      <th>05-001-0339</th>\n      <td>NaN</td>\n      <td>NaN</td>\n      <td>NaN</td>\n    </tr>\n  </tbody>\n</table>\n<p>878 rows × 3 columns</p>\n</div>"
     },
     "execution_count": 4,
     "metadata": {},
     "output_type": "execute_result"
    }
   ],
   "source": [
    "list_of_xrd = []\n",
    "list_of_x_system = []\n",
    "list_of_everything = []\n",
    "use_cols_xrd = ['xstal_system', 'theta', 'intensity']\n",
    "\n",
    "df_xrd = pd.DataFrame(columns=['y','theta', 'intensity'], index=index,)\n",
    "df_xrd\n",
    "\n"
   ],
   "metadata": {
    "collapsed": false,
    "pycharm": {
     "name": "#%%\n"
    }
   }
  },
  {
   "cell_type": "code",
   "execution_count": 5,
   "outputs": [
    {
     "data": {
      "text/plain": "               y theta intensity\n00-001-0128  NaN   NaN       NaN\n00-001-0478  NaN   NaN       NaN\n00-001-0491  NaN   NaN       NaN\n00-001-0508  NaN   NaN       NaN\n00-001-0550  NaN   NaN       NaN\n...          ...   ...       ...\n04-025-5495  NaN   NaN       NaN\n04-025-7414  NaN   NaN       NaN\n04-025-7475  NaN   NaN       NaN\n05-001-0181  NaN   NaN       NaN\n05-001-0339  NaN   NaN       NaN\n\n[878 rows x 3 columns]",
      "text/html": "<div>\n<style scoped>\n    .dataframe tbody tr th:only-of-type {\n        vertical-align: middle;\n    }\n\n    .dataframe tbody tr th {\n        vertical-align: top;\n    }\n\n    .dataframe thead th {\n        text-align: right;\n    }\n</style>\n<table border=\"1\" class=\"dataframe\">\n  <thead>\n    <tr style=\"text-align: right;\">\n      <th></th>\n      <th>y</th>\n      <th>theta</th>\n      <th>intensity</th>\n    </tr>\n  </thead>\n  <tbody>\n    <tr>\n      <th>00-001-0128</th>\n      <td>NaN</td>\n      <td>NaN</td>\n      <td>NaN</td>\n    </tr>\n    <tr>\n      <th>00-001-0478</th>\n      <td>NaN</td>\n      <td>NaN</td>\n      <td>NaN</td>\n    </tr>\n    <tr>\n      <th>00-001-0491</th>\n      <td>NaN</td>\n      <td>NaN</td>\n      <td>NaN</td>\n    </tr>\n    <tr>\n      <th>00-001-0508</th>\n      <td>NaN</td>\n      <td>NaN</td>\n      <td>NaN</td>\n    </tr>\n    <tr>\n      <th>00-001-0550</th>\n      <td>NaN</td>\n      <td>NaN</td>\n      <td>NaN</td>\n    </tr>\n    <tr>\n      <th>...</th>\n      <td>...</td>\n      <td>...</td>\n      <td>...</td>\n    </tr>\n    <tr>\n      <th>04-025-5495</th>\n      <td>NaN</td>\n      <td>NaN</td>\n      <td>NaN</td>\n    </tr>\n    <tr>\n      <th>04-025-7414</th>\n      <td>NaN</td>\n      <td>NaN</td>\n      <td>NaN</td>\n    </tr>\n    <tr>\n      <th>04-025-7475</th>\n      <td>NaN</td>\n      <td>NaN</td>\n      <td>NaN</td>\n    </tr>\n    <tr>\n      <th>05-001-0181</th>\n      <td>NaN</td>\n      <td>NaN</td>\n      <td>NaN</td>\n    </tr>\n    <tr>\n      <th>05-001-0339</th>\n      <td>NaN</td>\n      <td>NaN</td>\n      <td>NaN</td>\n    </tr>\n  </tbody>\n</table>\n<p>878 rows × 3 columns</p>\n</div>"
     },
     "execution_count": 5,
     "metadata": {},
     "output_type": "execute_result"
    }
   ],
   "source": [
    "for i in csv_list:\n",
    "    data = pd.read_csv(f'C:\\\\Users\\\\Admin\\\\Documents\\\\Inżynierka\\\\CSV_final\\\\{i}', usecols= use_cols_xrd)\n",
    "    list_of_everything.append(data)\n",
    "    df_xrd['y'][i] = data['xstal_system'][0]\n",
    "    df_xrd['theta'][i] = data['theta']\n",
    "    df_xrd['intensity'][i] = data['intensity']\n",
    "\n",
    "df_xrd\n",
    "\n"
   ],
   "metadata": {
    "collapsed": false,
    "pycharm": {
     "name": "#%%\n"
    }
   }
  },
  {
   "cell_type": "code",
   "execution_count": 6,
   "outputs": [],
   "source": [
    "Y = []\n",
    "for i in list_of_everything:\n",
    "    Y.append(i['xstal_system'][0])"
   ],
   "metadata": {
    "collapsed": false,
    "pycharm": {
     "name": "#%%\n"
    }
   }
  },
  {
   "cell_type": "code",
   "execution_count": 7,
   "outputs": [
    {
     "data": {
      "text/plain": "20    100\n21     60\n22      8\n23     14\n24      6\n25     35\n26      4\n27      4\n28      8\n29      4\n30      6\n31     12\n32      2\n33      8\n34      4\n35      4\n36      6\n37     10\n38      4\n39      4\n40     <1\n41      4\n42      2\n43      4\n44      2\n45      2\n46      4\n47      4\n48      2\n49      4\n50      4\nName: intensity, dtype: object"
     },
     "execution_count": 7,
     "metadata": {},
     "output_type": "execute_result"
    }
   ],
   "source": [
    "X_theta = []\n",
    "X_intens = []\n",
    "for i in list_of_everything:\n",
    "    X_theta.append(i['theta'].dropna())\n",
    "    X_intens.append(i['intensity'].dropna())\n",
    "X_intens[200]"
   ],
   "metadata": {
    "collapsed": false,
    "pycharm": {
     "name": "#%%\n"
    }
   }
  },
  {
   "cell_type": "code",
   "execution_count": 7,
   "outputs": [],
   "source": [],
   "metadata": {
    "collapsed": false,
    "pycharm": {
     "name": "#%%\n"
    }
   }
  },
  {
   "cell_type": "code",
   "execution_count": 8,
   "outputs": [],
   "source": [
    "counter = 0\n",
    "for i in index:\n",
    "\n",
    "    df_xrd['y'][i] = Y[counter]\n",
    "    df_xrd['theta'][i] = X_theta[counter]\n",
    "    df_xrd['intensity'][i] = X_intens[counter]\n",
    "\n",
    "    counter+=1\n"
   ],
   "metadata": {
    "collapsed": false,
    "pycharm": {
     "name": "#%%\n"
    }
   }
  },
  {
   "cell_type": "code",
   "execution_count": 9,
   "outputs": [
    {
     "data": {
      "text/plain": "   theta  intensity\n0  13.59        100\n1  16.78        100\n2  19.20        100\n3  21.14         80\n4  27.59        100\n5  30.92         60\n6  34.88         40\n7  37.12         40\n8  40.23         20\n9  42.19         10",
      "text/html": "<div>\n<style scoped>\n    .dataframe tbody tr th:only-of-type {\n        vertical-align: middle;\n    }\n\n    .dataframe tbody tr th {\n        vertical-align: top;\n    }\n\n    .dataframe thead th {\n        text-align: right;\n    }\n</style>\n<table border=\"1\" class=\"dataframe\">\n  <thead>\n    <tr style=\"text-align: right;\">\n      <th></th>\n      <th>theta</th>\n      <th>intensity</th>\n    </tr>\n  </thead>\n  <tbody>\n    <tr>\n      <th>0</th>\n      <td>13.59</td>\n      <td>100</td>\n    </tr>\n    <tr>\n      <th>1</th>\n      <td>16.78</td>\n      <td>100</td>\n    </tr>\n    <tr>\n      <th>2</th>\n      <td>19.20</td>\n      <td>100</td>\n    </tr>\n    <tr>\n      <th>3</th>\n      <td>21.14</td>\n      <td>80</td>\n    </tr>\n    <tr>\n      <th>4</th>\n      <td>27.59</td>\n      <td>100</td>\n    </tr>\n    <tr>\n      <th>5</th>\n      <td>30.92</td>\n      <td>60</td>\n    </tr>\n    <tr>\n      <th>6</th>\n      <td>34.88</td>\n      <td>40</td>\n    </tr>\n    <tr>\n      <th>7</th>\n      <td>37.12</td>\n      <td>40</td>\n    </tr>\n    <tr>\n      <th>8</th>\n      <td>40.23</td>\n      <td>20</td>\n    </tr>\n    <tr>\n      <th>9</th>\n      <td>42.19</td>\n      <td>10</td>\n    </tr>\n  </tbody>\n</table>\n</div>"
     },
     "execution_count": 9,
     "metadata": {},
     "output_type": "execute_result"
    }
   ],
   "source": [
    "m = df_xrd['theta'][0]\n",
    "n = df_xrd['intensity'][0]\n",
    "example = pd.concat([m,n], axis=1)\n",
    "example"
   ],
   "metadata": {
    "collapsed": false,
    "pycharm": {
     "name": "#%%\n"
    }
   }
  },
  {
   "cell_type": "code",
   "execution_count": 10,
   "outputs": [
    {
     "data": {
      "text/plain": "                                y  \\\n00-001-0128                 Cubic   \n00-001-0478          Orthorhombic   \n00-001-0491                 Cubic   \n00-001-0508          Rhombohedral   \n00-001-0550                 Cubic   \n...                           ...   \n04-025-5495  Triclinic (Anorthic)   \n04-025-7414  Triclinic (Anorthic)   \n04-025-7475  Triclinic (Anorthic)   \n05-001-0181  Triclinic (Anorthic)   \n05-001-0339  Triclinic (Anorthic)   \n\n                                                         theta  \\\n00-001-0128  0    13.59\n1    16.78\n2    19.20\n3    21.14\n4 ...   \n00-001-0478  16    15.26\n17    23.08\n18    25.80\n19    27.7...   \n00-001-0491  0     19.98\n1     23.45\n2     28.40\n3     34.8...   \n00-001-0508  21    18.51\n22    24.16\n23    28.31\n24    37.4...   \n00-001-0550  52     25.135\n53     35.743\n54     44.369\n55  ...   \n...                                                        ...   \n04-025-5495  30     10.330\n31     16.284\n32     16.284\n33  ...   \n04-025-7414  30      5.492\n31     10.615\n32     10.615\n33  ...   \n04-025-7475  12      7.583\n13     15.200\n14     22.885\n15  ...   \n05-001-0181  540      4.062\n541      8.128\n542     12.205\n5...   \n05-001-0339  14       6.213\n15      12.444\n16      14.117\n1...   \n\n                                                     intensity  \\\n00-001-0128  0    100\n1    100\n2    100\n3     80\n4    100\n5...   \n00-001-0478  16     31.0\n17    100.0\n18     31.0\n19     50....   \n00-001-0491  0      37\n1     100\n2      10\n3       5\n4     ...   \n00-001-0508  21     11.0\n22    100.0\n23     64.0\n24     16....   \n00-001-0550  52    100.0\n53     50.0\n54    100.0\n55     50....   \n...                                                        ...   \n04-025-5495  30       29\n31     530m\n32     530m\n33       8...   \n04-025-7414  30         1\n31     1000m\n32     1000m\n33     ...   \n04-025-7475  12        5\n13      368\n14        3\n15       7...   \n05-001-0181  540     33\n541      7\n542     24\n543     28\n54...   \n05-001-0339  14       6\n15       1\n16      24\n17       3\n18...   \n\n                                                         chart  \n00-001-0128  0    100\n1    100\n2    100\n3     80\n4    100\n5...  \n00-001-0478  16     31.0\n17    100.0\n18     31.0\n19     50....  \n00-001-0491  0      37\n1     100\n2      10\n3       5\n4     ...  \n00-001-0508  21     11.0\n22    100.0\n23     64.0\n24     16....  \n00-001-0550  52    100.0\n53     50.0\n54    100.0\n55     50....  \n...                                                        ...  \n04-025-5495  30       29\n31     530m\n32     530m\n33       8...  \n04-025-7414  30         1\n31     1000m\n32     1000m\n33     ...  \n04-025-7475  12        5\n13      368\n14        3\n15       7...  \n05-001-0181  540     33\n541      7\n542     24\n543     28\n54...  \n05-001-0339  14       6\n15       1\n16      24\n17       3\n18...  \n\n[878 rows x 4 columns]",
      "text/html": "<div>\n<style scoped>\n    .dataframe tbody tr th:only-of-type {\n        vertical-align: middle;\n    }\n\n    .dataframe tbody tr th {\n        vertical-align: top;\n    }\n\n    .dataframe thead th {\n        text-align: right;\n    }\n</style>\n<table border=\"1\" class=\"dataframe\">\n  <thead>\n    <tr style=\"text-align: right;\">\n      <th></th>\n      <th>y</th>\n      <th>theta</th>\n      <th>intensity</th>\n      <th>chart</th>\n    </tr>\n  </thead>\n  <tbody>\n    <tr>\n      <th>00-001-0128</th>\n      <td>Cubic</td>\n      <td>0    13.59\n1    16.78\n2    19.20\n3    21.14\n4 ...</td>\n      <td>0    100\n1    100\n2    100\n3     80\n4    100\n5...</td>\n      <td>0    100\n1    100\n2    100\n3     80\n4    100\n5...</td>\n    </tr>\n    <tr>\n      <th>00-001-0478</th>\n      <td>Orthorhombic</td>\n      <td>16    15.26\n17    23.08\n18    25.80\n19    27.7...</td>\n      <td>16     31.0\n17    100.0\n18     31.0\n19     50....</td>\n      <td>16     31.0\n17    100.0\n18     31.0\n19     50....</td>\n    </tr>\n    <tr>\n      <th>00-001-0491</th>\n      <td>Cubic</td>\n      <td>0     19.98\n1     23.45\n2     28.40\n3     34.8...</td>\n      <td>0      37\n1     100\n2      10\n3       5\n4     ...</td>\n      <td>0      37\n1     100\n2      10\n3       5\n4     ...</td>\n    </tr>\n    <tr>\n      <th>00-001-0508</th>\n      <td>Rhombohedral</td>\n      <td>21    18.51\n22    24.16\n23    28.31\n24    37.4...</td>\n      <td>21     11.0\n22    100.0\n23     64.0\n24     16....</td>\n      <td>21     11.0\n22    100.0\n23     64.0\n24     16....</td>\n    </tr>\n    <tr>\n      <th>00-001-0550</th>\n      <td>Cubic</td>\n      <td>52     25.135\n53     35.743\n54     44.369\n55  ...</td>\n      <td>52    100.0\n53     50.0\n54    100.0\n55     50....</td>\n      <td>52    100.0\n53     50.0\n54    100.0\n55     50....</td>\n    </tr>\n    <tr>\n      <th>...</th>\n      <td>...</td>\n      <td>...</td>\n      <td>...</td>\n      <td>...</td>\n    </tr>\n    <tr>\n      <th>04-025-5495</th>\n      <td>Triclinic (Anorthic)</td>\n      <td>30     10.330\n31     16.284\n32     16.284\n33  ...</td>\n      <td>30       29\n31     530m\n32     530m\n33       8...</td>\n      <td>30       29\n31     530m\n32     530m\n33       8...</td>\n    </tr>\n    <tr>\n      <th>04-025-7414</th>\n      <td>Triclinic (Anorthic)</td>\n      <td>30      5.492\n31     10.615\n32     10.615\n33  ...</td>\n      <td>30         1\n31     1000m\n32     1000m\n33     ...</td>\n      <td>30         1\n31     1000m\n32     1000m\n33     ...</td>\n    </tr>\n    <tr>\n      <th>04-025-7475</th>\n      <td>Triclinic (Anorthic)</td>\n      <td>12      7.583\n13     15.200\n14     22.885\n15  ...</td>\n      <td>12        5\n13      368\n14        3\n15       7...</td>\n      <td>12        5\n13      368\n14        3\n15       7...</td>\n    </tr>\n    <tr>\n      <th>05-001-0181</th>\n      <td>Triclinic (Anorthic)</td>\n      <td>540      4.062\n541      8.128\n542     12.205\n5...</td>\n      <td>540     33\n541      7\n542     24\n543     28\n54...</td>\n      <td>540     33\n541      7\n542     24\n543     28\n54...</td>\n    </tr>\n    <tr>\n      <th>05-001-0339</th>\n      <td>Triclinic (Anorthic)</td>\n      <td>14       6.213\n15      12.444\n16      14.117\n1...</td>\n      <td>14       6\n15       1\n16      24\n17       3\n18...</td>\n      <td>14       6\n15       1\n16      24\n17       3\n18...</td>\n    </tr>\n  </tbody>\n</table>\n<p>878 rows × 4 columns</p>\n</div>"
     },
     "execution_count": 10,
     "metadata": {},
     "output_type": "execute_result"
    }
   ],
   "source": [
    "df_xrd['chart'] = df_xrd['intensity']\n",
    "df_xrd"
   ],
   "metadata": {
    "collapsed": false,
    "pycharm": {
     "name": "#%%\n"
    }
   }
  },
  {
   "cell_type": "code",
   "execution_count": 11,
   "outputs": [],
   "source": [
    "for i in index:\n",
    "    m = df_xrd['theta'][i]\n",
    "    n = df_xrd['intensity'][i]\n",
    "    example = pd.concat([m,n], axis=1)\n",
    "    example.set_index(keys=[m], inplace=True)\n",
    "    example_numpy =example.to_numpy()\n",
    "    df_xrd['chart'][i] = example_numpy"
   ],
   "metadata": {
    "collapsed": false,
    "pycharm": {
     "name": "#%%\n"
    }
   }
  },
  {
   "cell_type": "code",
   "execution_count": 12,
   "outputs": [],
   "source": [
    "for i in df_xrd['chart']:\n",
    "    for k in i:\n",
    "        if type(k[1]) == str and k[1][-1].isnumeric() == False:\n",
    "            k[1] = float(k[:-1])\n",
    "        elif type(k[1]) == str and k[1][0] == \"<\":\n",
    "            k[1] = 0\n",
    "        else:\n",
    "\n",
    "            k[1] = float(k[1])"
   ],
   "metadata": {
    "collapsed": false,
    "pycharm": {
     "name": "#%%\n"
    }
   }
  },
  {
   "cell_type": "code",
   "execution_count": 13,
   "outputs": [
    {
     "data": {
      "text/plain": "                                y  \\\n00-001-0128                 Cubic   \n00-001-0478          Orthorhombic   \n00-001-0491                 Cubic   \n00-001-0508          Rhombohedral   \n00-001-0550                 Cubic   \n...                           ...   \n04-025-5495  Triclinic (Anorthic)   \n04-025-7414  Triclinic (Anorthic)   \n04-025-7475  Triclinic (Anorthic)   \n05-001-0181  Triclinic (Anorthic)   \n05-001-0339  Triclinic (Anorthic)   \n\n                                                         theta  \\\n00-001-0128  0    13.59\n1    16.78\n2    19.20\n3    21.14\n4 ...   \n00-001-0478  16    15.26\n17    23.08\n18    25.80\n19    27.7...   \n00-001-0491  0     19.98\n1     23.45\n2     28.40\n3     34.8...   \n00-001-0508  21    18.51\n22    24.16\n23    28.31\n24    37.4...   \n00-001-0550  52     25.135\n53     35.743\n54     44.369\n55  ...   \n...                                                        ...   \n04-025-5495  30     10.330\n31     16.284\n32     16.284\n33  ...   \n04-025-7414  30      5.492\n31     10.615\n32     10.615\n33  ...   \n04-025-7475  12      7.583\n13     15.200\n14     22.885\n15  ...   \n05-001-0181  540      4.062\n541      8.128\n542     12.205\n5...   \n05-001-0339  14       6.213\n15      12.444\n16      14.117\n1...   \n\n                                                     intensity  \\\n00-001-0128  0    100\n1    100\n2    100\n3     80\n4    100\n5...   \n00-001-0478  16     31.0\n17    100.0\n18     31.0\n19     50....   \n00-001-0491  0      37\n1     100\n2      10\n3       5\n4     ...   \n00-001-0508  21     11.0\n22    100.0\n23     64.0\n24     16....   \n00-001-0550  52    100.0\n53     50.0\n54    100.0\n55     50....   \n...                                                        ...   \n04-025-5495  30       29\n31     530m\n32     530m\n33       8...   \n04-025-7414  30         1\n31     1000m\n32     1000m\n33     ...   \n04-025-7475  12        5\n13      368\n14        3\n15       7...   \n05-001-0181  540     33\n541      7\n542     24\n543     28\n54...   \n05-001-0339  14       6\n15       1\n16      24\n17       3\n18...   \n\n                                                         chart  \n00-001-0128  [[13.59, 100.0], [16.78, 100.0], [19.2, 100.0]...  \n00-001-0478  [[15.26, 31.0], [23.08, 100.0], [25.8, 31.0], ...  \n00-001-0491  [[19.98, 37.0], [23.45, 100.0], [28.4, 10.0], ...  \n00-001-0508  [[18.51, 11.0], [24.16, 100.0], [28.31, 64.0],...  \n00-001-0550  [[25.135, 100.0], [35.743, 50.0], [44.369, 100...  \n...                                                        ...  \n04-025-5495  [[10.33, 29.0], [16.284, 16.284], [16.284, 16....  \n04-025-7414  [[5.492, 1.0], [10.615, 10.615], [10.615, 10.6...  \n04-025-7475  [[7.583, 5.0], [15.2, 368.0], [22.885, 3.0], [...  \n05-001-0181  [[4.062, 33.0], [8.128, 7.0], [12.205, 24.0], ...  \n05-001-0339  [[6.213, 6.0], [12.444, 1.0], [14.117, 24.0], ...  \n\n[878 rows x 4 columns]",
      "text/html": "<div>\n<style scoped>\n    .dataframe tbody tr th:only-of-type {\n        vertical-align: middle;\n    }\n\n    .dataframe tbody tr th {\n        vertical-align: top;\n    }\n\n    .dataframe thead th {\n        text-align: right;\n    }\n</style>\n<table border=\"1\" class=\"dataframe\">\n  <thead>\n    <tr style=\"text-align: right;\">\n      <th></th>\n      <th>y</th>\n      <th>theta</th>\n      <th>intensity</th>\n      <th>chart</th>\n    </tr>\n  </thead>\n  <tbody>\n    <tr>\n      <th>00-001-0128</th>\n      <td>Cubic</td>\n      <td>0    13.59\n1    16.78\n2    19.20\n3    21.14\n4 ...</td>\n      <td>0    100\n1    100\n2    100\n3     80\n4    100\n5...</td>\n      <td>[[13.59, 100.0], [16.78, 100.0], [19.2, 100.0]...</td>\n    </tr>\n    <tr>\n      <th>00-001-0478</th>\n      <td>Orthorhombic</td>\n      <td>16    15.26\n17    23.08\n18    25.80\n19    27.7...</td>\n      <td>16     31.0\n17    100.0\n18     31.0\n19     50....</td>\n      <td>[[15.26, 31.0], [23.08, 100.0], [25.8, 31.0], ...</td>\n    </tr>\n    <tr>\n      <th>00-001-0491</th>\n      <td>Cubic</td>\n      <td>0     19.98\n1     23.45\n2     28.40\n3     34.8...</td>\n      <td>0      37\n1     100\n2      10\n3       5\n4     ...</td>\n      <td>[[19.98, 37.0], [23.45, 100.0], [28.4, 10.0], ...</td>\n    </tr>\n    <tr>\n      <th>00-001-0508</th>\n      <td>Rhombohedral</td>\n      <td>21    18.51\n22    24.16\n23    28.31\n24    37.4...</td>\n      <td>21     11.0\n22    100.0\n23     64.0\n24     16....</td>\n      <td>[[18.51, 11.0], [24.16, 100.0], [28.31, 64.0],...</td>\n    </tr>\n    <tr>\n      <th>00-001-0550</th>\n      <td>Cubic</td>\n      <td>52     25.135\n53     35.743\n54     44.369\n55  ...</td>\n      <td>52    100.0\n53     50.0\n54    100.0\n55     50....</td>\n      <td>[[25.135, 100.0], [35.743, 50.0], [44.369, 100...</td>\n    </tr>\n    <tr>\n      <th>...</th>\n      <td>...</td>\n      <td>...</td>\n      <td>...</td>\n      <td>...</td>\n    </tr>\n    <tr>\n      <th>04-025-5495</th>\n      <td>Triclinic (Anorthic)</td>\n      <td>30     10.330\n31     16.284\n32     16.284\n33  ...</td>\n      <td>30       29\n31     530m\n32     530m\n33       8...</td>\n      <td>[[10.33, 29.0], [16.284, 16.284], [16.284, 16....</td>\n    </tr>\n    <tr>\n      <th>04-025-7414</th>\n      <td>Triclinic (Anorthic)</td>\n      <td>30      5.492\n31     10.615\n32     10.615\n33  ...</td>\n      <td>30         1\n31     1000m\n32     1000m\n33     ...</td>\n      <td>[[5.492, 1.0], [10.615, 10.615], [10.615, 10.6...</td>\n    </tr>\n    <tr>\n      <th>04-025-7475</th>\n      <td>Triclinic (Anorthic)</td>\n      <td>12      7.583\n13     15.200\n14     22.885\n15  ...</td>\n      <td>12        5\n13      368\n14        3\n15       7...</td>\n      <td>[[7.583, 5.0], [15.2, 368.0], [22.885, 3.0], [...</td>\n    </tr>\n    <tr>\n      <th>05-001-0181</th>\n      <td>Triclinic (Anorthic)</td>\n      <td>540      4.062\n541      8.128\n542     12.205\n5...</td>\n      <td>540     33\n541      7\n542     24\n543     28\n54...</td>\n      <td>[[4.062, 33.0], [8.128, 7.0], [12.205, 24.0], ...</td>\n    </tr>\n    <tr>\n      <th>05-001-0339</th>\n      <td>Triclinic (Anorthic)</td>\n      <td>14       6.213\n15      12.444\n16      14.117\n1...</td>\n      <td>14       6\n15       1\n16      24\n17       3\n18...</td>\n      <td>[[6.213, 6.0], [12.444, 1.0], [14.117, 24.0], ...</td>\n    </tr>\n  </tbody>\n</table>\n<p>878 rows × 4 columns</p>\n</div>"
     },
     "execution_count": 13,
     "metadata": {},
     "output_type": "execute_result"
    }
   ],
   "source": [
    "df_xrd"
   ],
   "metadata": {
    "collapsed": false,
    "pycharm": {
     "name": "#%%\n"
    }
   }
  },
  {
   "cell_type": "markdown",
   "source": [
    "Histogram przedstawiający ilość próbek w każdej klasie"
   ],
   "metadata": {
    "collapsed": false,
    "pycharm": {
     "name": "#%% md\n"
    }
   }
  },
  {
   "cell_type": "code",
   "execution_count": 14,
   "outputs": [
    {
     "data": {
      "text/plain": "<PandasArray>\n[158, 128, 127, 127, 126, 115, 97]\nLength: 7, dtype: int64"
     },
     "execution_count": 14,
     "metadata": {},
     "output_type": "execute_result"
    }
   ],
   "source": [
    "hist_data = df_xrd['y'].value_counts()\n",
    "hist_data.array"
   ],
   "metadata": {
    "collapsed": false,
    "pycharm": {
     "name": "#%%\n"
    }
   }
  },
  {
   "cell_type": "code",
   "execution_count": 15,
   "outputs": [
    {
     "data": {
      "text/plain": "Index(['Orthorhombic', 'Rhombohedral', 'Tetragonal', 'Monoclinic', 'Hexagonal',\n       'Cubic', 'Triclinic (Anorthic)'],\n      dtype='object')"
     },
     "execution_count": 15,
     "metadata": {},
     "output_type": "execute_result"
    }
   ],
   "source": [
    "hist_labels = df_xrd['y'].value_counts().index\n",
    "hist_labels"
   ],
   "metadata": {
    "collapsed": false,
    "pycharm": {
     "name": "#%%\n"
    }
   }
  },
  {
   "cell_type": "code",
   "execution_count": 16,
   "outputs": [
    {
     "data": {
      "text/plain": "<Figure size 1224x432 with 1 Axes>",
      "image/png": "[encoded data removed]"
     },
     "metadata": {
      "needs_background": "light"
     },
     "output_type": "display_data"
    }
   ],
   "source": [
    "plt.figure(figsize=(17,6),)\n",
    "plt.xlabel('System', fontsize = 20)\n",
    "\n",
    "plt.ylabel('Intensity', fontsize = 20)\n",
    "plt.title('Histogram of crystal system', fontsize = 20)\n",
    "plt.bar(hist_labels,hist_data, )\n",
    "plt.savefig(r'C:\\Users\\Admin\\Documents\\Inżynierka\\Wykresy\\hist_of_x-system.png')\n"
   ],
   "metadata": {
    "collapsed": false,
    "pycharm": {
     "name": "#%%\n"
    }
   }
  },
  {
   "cell_type": "markdown",
   "source": [
    "Wykres przedstawijący średnią ilość pików dla każdej klasy"
   ],
   "metadata": {
    "collapsed": false,
    "pycharm": {
     "name": "#%% md\n"
    }
   }
  },
  {
   "cell_type": "code",
   "execution_count": 17,
   "outputs": [],
   "source": [
    "Orthorhombic = []\n",
    "Rhombohedral= []\n",
    "Tetragonal= []\n",
    "Monoclinic= []\n",
    "Hexagonal= []\n",
    "Cubic= []\n",
    "Triclinic= []\n",
    "\n",
    "\n",
    "for i, j in zip(df_xrd[\"y\"], df_xrd[\"theta\"]):\n",
    "    if i == 'Orthorhombic':\n",
    "        Orthorhombic.append(len(j))\n",
    "    elif i == 'Rhombohedral':\n",
    "        Rhombohedral.append(len(j))\n",
    "    elif i == 'Tetragonal':\n",
    "        Tetragonal.append(len(j))\n",
    "    elif i == 'Monoclinic':\n",
    "        Monoclinic.append(len(j))\n",
    "    elif i == 'Hexagonal':\n",
    "        Hexagonal.append(len(j))\n",
    "    elif i == 'Cubic':\n",
    "        Cubic.append(len(j))\n",
    "    else :\n",
    "        Triclinic.append(len(j))\n"
   ],
   "metadata": {
    "collapsed": false,
    "pycharm": {
     "name": "#%%\n"
    }
   }
  },
  {
   "cell_type": "code",
   "execution_count": 18,
   "outputs": [],
   "source": [
    "def Average(lst):\n",
    "    return sum(lst) / len(lst)\n",
    "\n",
    "avarage_number_of_reflexes = [\n",
    "Average(Orthorhombic),\n",
    "Average(Rhombohedral),\n",
    "Average(Tetragonal),\n",
    "Average(Monoclinic),\n",
    "Average(Hexagonal),\n",
    "Average(Cubic),\n",
    "Average(Triclinic),]\n",
    "\n"
   ],
   "metadata": {
    "collapsed": false,
    "pycharm": {
     "name": "#%%\n"
    }
   }
  },
  {
   "cell_type": "code",
   "execution_count": 19,
   "outputs": [
    {
     "data": {
      "text/plain": "<Figure size 1224x432 with 1 Axes>",
      "image/png": "[encoded data removed]"
     },
     "metadata": {
      "needs_background": "light"
     },
     "output_type": "display_data"
    }
   ],
   "source": [
    "plt.figure(figsize=(17,6),)\n",
    "plt.xlabel('System', fontsize = 20)\n",
    "\n",
    "plt.ylabel('Avarage', fontsize = 20)\n",
    "plt.title('Avarage number of reflexes', fontsize = 20)\n",
    "plt.bar(hist_labels,avarage_number_of_reflexes, )\n",
    "plt.savefig(r'C:\\Users\\Admin\\Documents\\Inżynierka\\Wykresy\\avarage_number_of_reflexes5.png')\n"
   ],
   "metadata": {
    "collapsed": false,
    "pycharm": {
     "name": "#%%\n"
    }
   }
  },
  {
   "cell_type": "markdown",
   "source": [
    "Najmniejszy i największy kąt"
   ],
   "metadata": {
    "collapsed": false,
    "pycharm": {
     "name": "#%% md\n"
    }
   },
   "outputs": [
    {
     "ename": "SyntaxError",
     "evalue": "invalid syntax (Temp/ipykernel_500/3118041897.py, line 1)",
     "output_type": "error",
     "traceback": [
      "\u001B[1;36m  File \u001B[1;32m\"C:\\Users\\Admin\\AppData\\Local\\Temp/ipykernel_500/3118041897.py\"\u001B[1;36m, line \u001B[1;32m1\u001B[0m\n\u001B[1;33m    Najmniejszy i największy kąt\u001B[0m\n\u001B[1;37m                ^\u001B[0m\n\u001B[1;31mSyntaxError\u001B[0m\u001B[1;31m:\u001B[0m invalid syntax\n"
     ]
    }
   ],
   "execution_count": 41
  },
  {
   "cell_type": "code",
   "execution_count": 20,
   "outputs": [],
   "source": [
    "df_xrd_ind = df_xrd.index"
   ],
   "metadata": {
    "collapsed": false,
    "pycharm": {
     "name": "#%%\n"
    }
   }
  },
  {
   "cell_type": "code",
   "execution_count": 21,
   "outputs": [],
   "source": [
    "biggest = 0\n",
    "smallest = 100\n",
    "for i in df_xrd_ind:\n",
    "    a = df_xrd['chart'][i]\n",
    "    for j in a:\n",
    "        if j[0]>biggest:\n",
    "            biggest = j[0]\n",
    "        elif j[0]<smallest:\n",
    "            smallest = j[0]"
   ],
   "metadata": {
    "collapsed": false,
    "pycharm": {
     "name": "#%%\n"
    }
   }
  },
  {
   "cell_type": "code",
   "execution_count": 22,
   "outputs": [
    {
     "name": "stdout",
     "output_type": "stream",
     "text": [
      "3.244 170.928\n"
     ]
    }
   ],
   "source": [
    "print(smallest,biggest)"
   ],
   "metadata": {
    "collapsed": false,
    "pycharm": {
     "name": "#%%\n"
    }
   }
  },
  {
   "cell_type": "markdown",
   "source": [],
   "metadata": {
    "collapsed": false
   }
  },
  {
   "cell_type": "markdown",
   "source": [
    "Histogram przedstawiający ilość pików dla każdego kąta dla wszystkich próbek\n",
    "\n"
   ],
   "metadata": {
    "collapsed": false,
    "pycharm": {
     "name": "#%% md\n"
    }
   }
  },
  {
   "cell_type": "code",
   "source": [
    "number_of_all_peaks = []\n",
    "for i in range(0,172):\n",
    "    number_of_all_peaks.append(0)\n",
    "len(number_of_all_peaks)"
   ],
   "metadata": {
    "collapsed": false,
    "pycharm": {
     "name": "#%%\n"
    }
   },
   "execution_count": 23,
   "outputs": [
    {
     "data": {
      "text/plain": "172"
     },
     "execution_count": 23,
     "metadata": {},
     "output_type": "execute_result"
    }
   ]
  },
  {
   "cell_type": "code",
   "execution_count": 24,
   "outputs": [],
   "source": [
    "for x in df_xrd_ind:\n",
    "    j = df_xrd['chart'][x]\n",
    "\n",
    "    for i in j:\n",
    "        if int(i[0])<=i[0]<int(i[0]+1):\n",
    "            number_of_all_peaks[int(i[0])]+=1"
   ],
   "metadata": {
    "collapsed": false,
    "pycharm": {
     "name": "#%%\n"
    }
   }
  },
  {
   "cell_type": "code",
   "execution_count": 25,
   "outputs": [
    {
     "data": {
      "text/plain": "<Figure size 1224x432 with 1 Axes>",
      "image/png": "[encoded data removed]"
     },
     "metadata": {
      "needs_background": "light"
     },
     "output_type": "display_data"
    }
   ],
   "source": [
    "plt.figure(figsize=(17,6),)\n",
    "plt.xlabel('2theta', fontsize = 20)\n",
    "\n",
    "plt.ylabel('Number', fontsize = 20)\n",
    "plt.title('sum_of_reflexes_per_pik', fontsize = 20)\n",
    "plt.bar(range(172), number_of_all_peaks)\n",
    "plt.savefig(r'C:\\Users\\Admin\\Documents\\Inżynierka\\Wykresy\\sum_of_reflexes_per_pik3.png')"
   ],
   "metadata": {
    "collapsed": false,
    "pycharm": {
     "name": "#%%\n"
    }
   }
  },
  {
   "cell_type": "markdown",
   "source": [
    "Wykres dla układu Orthorhombic"
   ],
   "metadata": {
    "collapsed": false,
    "pycharm": {
     "name": "#%% md\n"
    }
   },
   "outputs": [
    {
     "ename": "SyntaxError",
     "evalue": "invalid syntax (Temp/ipykernel_500/165083732.py, line 1)",
     "output_type": "error",
     "traceback": [
      "\u001B[1;36m  File \u001B[1;32m\"C:\\Users\\Admin\\AppData\\Local\\Temp/ipykernel_500/165083732.py\"\u001B[1;36m, line \u001B[1;32m1\u001B[0m\n\u001B[1;33m    Wykres dla układu Orthorhombic\u001B[0m\n\u001B[1;37m           ^\u001B[0m\n\u001B[1;31mSyntaxError\u001B[0m\u001B[1;31m:\u001B[0m invalid syntax\n"
     ]
    }
   ],
   "execution_count": 53
  },
  {
   "cell_type": "code",
   "execution_count": 26,
   "outputs": [
    {
     "data": {
      "text/plain": "172"
     },
     "execution_count": 26,
     "metadata": {},
     "output_type": "execute_result"
    }
   ],
   "source": [
    "number_of_Orthorhombic_peaks = []\n",
    "for i in range(0,172):\n",
    "    number_of_Orthorhombic_peaks.append(0)\n",
    "len(number_of_Orthorhombic_peaks)"
   ],
   "metadata": {
    "collapsed": false,
    "pycharm": {
     "name": "#%%\n"
    }
   }
  },
  {
   "cell_type": "code",
   "execution_count": 27,
   "outputs": [],
   "source": [
    "for x in df_xrd_ind:\n",
    "    j = df_xrd['chart'][x]\n",
    "    if df_xrd['y'][x] == 'Orthorhombic':\n",
    "        for i in j:\n",
    "            if int(i[0])<=i[0]<int(i[0]+1):\n",
    "                number_of_Orthorhombic_peaks[int(i[0])]+=1"
   ],
   "metadata": {
    "collapsed": false,
    "pycharm": {
     "name": "#%%\n"
    }
   }
  },
  {
   "cell_type": "code",
   "execution_count": 28,
   "outputs": [
    {
     "data": {
      "text/plain": "<Figure size 1224x432 with 1 Axes>",
      "image/png": "[encoded data removed]"
     },
     "metadata": {
      "needs_background": "light"
     },
     "output_type": "display_data"
    }
   ],
   "source": [
    "plt.figure(figsize=(17,6),)\n",
    "plt.xlabel('2theta', fontsize = 20)\n",
    "\n",
    "plt.ylabel('Number', fontsize = 20)\n",
    "plt.title('sum_of_reflexes_per_pik_Orthorhombic', fontsize = 20)\n",
    "plt.bar(range(172), number_of_Orthorhombic_peaks)\n",
    "plt.savefig(r'C:\\Users\\Admin\\Documents\\Inżynierka\\Wykresy\\sum_of_reflexes_per_pik_Orthorhombic9.png')"
   ],
   "metadata": {
    "collapsed": false,
    "pycharm": {
     "name": "#%%\n"
    }
   }
  },
  {
   "cell_type": "markdown",
   "source": [
    "Wykres dla układu Rhombohedral\n"
   ],
   "metadata": {
    "collapsed": false,
    "pycharm": {
     "name": "#%% md\n"
    }
   }
  },
  {
   "cell_type": "code",
   "execution_count": 29,
   "outputs": [
    {
     "data": {
      "text/plain": "172"
     },
     "execution_count": 29,
     "metadata": {},
     "output_type": "execute_result"
    }
   ],
   "source": [
    "number_of_Rhombohedral_peaks = []\n",
    "for i in range(0,172):\n",
    "    number_of_Rhombohedral_peaks.append(0)\n",
    "len(number_of_Rhombohedral_peaks)"
   ],
   "metadata": {
    "collapsed": false,
    "pycharm": {
     "name": "#%%\n"
    }
   }
  },
  {
   "cell_type": "code",
   "execution_count": 30,
   "outputs": [],
   "source": [
    "for x in df_xrd_ind:\n",
    "    j = df_xrd['chart'][x]\n",
    "    if df_xrd['y'][x] == 'Rhombohedral':\n",
    "        for i in j:\n",
    "            if int(i[0])<=i[0]<int(i[0]+1):\n",
    "                number_of_Rhombohedral_peaks[int(i[0])]+=1"
   ],
   "metadata": {
    "collapsed": false,
    "pycharm": {
     "name": "#%%\n"
    }
   }
  },
  {
   "cell_type": "code",
   "execution_count": 31,
   "outputs": [
    {
     "data": {
      "text/plain": "<Figure size 1224x432 with 1 Axes>",
      "image/png": "[encoded data removed]"
     },
     "metadata": {
      "needs_background": "light"
     },
     "output_type": "display_data"
    }
   ],
   "source": [
    "plt.figure(figsize=(17,6),)\n",
    "plt.xlabel('2theta', fontsize = 20)\n",
    "\n",
    "plt.ylabel('Number', fontsize = 20)\n",
    "plt.title('sum_of_reflexes_per_pik_Rhombohedral', fontsize = 20)\n",
    "plt.bar(range(172), number_of_Rhombohedral_peaks)\n",
    "plt.savefig(r'C:\\Users\\Admin\\Documents\\Inżynierka\\Wykresy\\sum_of_reflexes_per_pik_Rhombohedral10.png')"
   ],
   "metadata": {
    "collapsed": false,
    "pycharm": {
     "name": "#%%\n"
    }
   }
  },
  {
   "cell_type": "markdown",
   "source": [
    "Wykres dla układu Tetragonal"
   ],
   "metadata": {
    "collapsed": false,
    "pycharm": {
     "name": "#%% md\n"
    }
   }
  },
  {
   "cell_type": "code",
   "execution_count": 32,
   "outputs": [
    {
     "data": {
      "text/plain": "172"
     },
     "execution_count": 32,
     "metadata": {},
     "output_type": "execute_result"
    }
   ],
   "source": [
    "number_of_Tetragonal_peaks = []\n",
    "for i in range(0,172):\n",
    "    number_of_Tetragonal_peaks.append(0)\n",
    "len(number_of_Tetragonal_peaks)"
   ],
   "metadata": {
    "collapsed": false,
    "pycharm": {
     "name": "#%%\n"
    }
   }
  },
  {
   "cell_type": "code",
   "execution_count": 33,
   "outputs": [],
   "source": [
    "for x in df_xrd_ind:\n",
    "    j = df_xrd['chart'][x]\n",
    "    if df_xrd['y'][x] == 'Tetragonal':\n",
    "        for i in j:\n",
    "            if int(i[0])<=i[0]<int(i[0]+1):\n",
    "                number_of_Tetragonal_peaks[int(i[0])]+=1"
   ],
   "metadata": {
    "collapsed": false,
    "pycharm": {
     "name": "#%%\n"
    }
   }
  },
  {
   "cell_type": "code",
   "execution_count": 34,
   "outputs": [
    {
     "data": {
      "text/plain": "<Figure size 1224x432 with 1 Axes>",
      "image/png": "[encoded data removed]"
     },
     "metadata": {
      "needs_background": "light"
     },
     "output_type": "display_data"
    }
   ],
   "source": [
    "plt.figure(figsize=(17,6),)\n",
    "plt.xlabel('2theta', fontsize = 20)\n",
    "\n",
    "plt.ylabel('Number', fontsize = 20)\n",
    "plt.title('sum_of_reflexes_per_pik_Tetragonal', fontsize = 20)\n",
    "plt.bar(range(172), number_of_Tetragonal_peaks)\n",
    "plt.savefig(r'C:\\Users\\Admin\\Documents\\Inżynierka\\Wykresy\\sum_of_reflexes_per_pik_Tetragonal9.png')"
   ],
   "metadata": {
    "collapsed": false,
    "pycharm": {
     "name": "#%%\n"
    }
   }
  },
  {
   "cell_type": "code",
   "execution_count": 35,
   "outputs": [],
   "source": [
    "#number_of_Tetragonal_peaks"
   ],
   "metadata": {
    "collapsed": false,
    "pycharm": {
     "name": "#%%\n"
    }
   }
  },
  {
   "cell_type": "markdown",
   "source": [
    "Wykres dla układu Monoclinic"
   ],
   "metadata": {
    "collapsed": false,
    "pycharm": {
     "name": "#%% md\n"
    }
   }
  },
  {
   "cell_type": "code",
   "execution_count": 36,
   "outputs": [
    {
     "data": {
      "text/plain": "172"
     },
     "execution_count": 36,
     "metadata": {},
     "output_type": "execute_result"
    }
   ],
   "source": [
    "number_of_Monoclinic_peaks = []\n",
    "for i in range(0,172):\n",
    "    number_of_Monoclinic_peaks.append(0)\n",
    "len(number_of_Monoclinic_peaks)"
   ],
   "metadata": {
    "collapsed": false,
    "pycharm": {
     "name": "#%%\n"
    }
   }
  },
  {
   "cell_type": "code",
   "execution_count": 37,
   "outputs": [],
   "source": [
    "for x in df_xrd_ind:\n",
    "    j = df_xrd['chart'][x]\n",
    "    if df_xrd['y'][x] == 'Monoclinic':\n",
    "        for i in j:\n",
    "            if int(i[0])<=i[0]<int(i[0]+1):\n",
    "                number_of_Monoclinic_peaks[int(i[0])]+=1"
   ],
   "metadata": {
    "collapsed": false,
    "pycharm": {
     "name": "#%%\n"
    }
   }
  },
  {
   "cell_type": "code",
   "execution_count": 38,
   "outputs": [],
   "source": [
    "#number_of_Monoclinic_peaks"
   ],
   "metadata": {
    "collapsed": false,
    "pycharm": {
     "name": "#%%\n"
    }
   }
  },
  {
   "cell_type": "code",
   "execution_count": 39,
   "outputs": [
    {
     "data": {
      "text/plain": "<Figure size 1224x432 with 1 Axes>",
      "image/png": "[encoded data removed]"
     },
     "metadata": {
      "needs_background": "light"
     },
     "output_type": "display_data"
    }
   ],
   "source": [
    "plt.figure(figsize=(17,6),)\n",
    "plt.xlabel('2theta', fontsize = 20)\n",
    "\n",
    "plt.ylabel('Number', fontsize = 20)\n",
    "plt.title('sum_of_reflexes_per_pik_Monoclinic', fontsize = 20)\n",
    "plt.bar(range(172), number_of_Monoclinic_peaks)\n",
    "plt.savefig(r'C:\\Users\\Admin\\Documents\\Inżynierka\\Wykresy\\sum_of_reflexes_per_pik_Monoclinic9.png')"
   ],
   "metadata": {
    "collapsed": false,
    "pycharm": {
     "name": "#%%\n"
    }
   }
  },
  {
   "cell_type": "markdown",
   "source": [
    "Wykres dla układu Hexagonal"
   ],
   "metadata": {
    "collapsed": false,
    "pycharm": {
     "name": "#%% md\n"
    }
   }
  },
  {
   "cell_type": "code",
   "execution_count": 40,
   "outputs": [
    {
     "data": {
      "text/plain": "172"
     },
     "execution_count": 40,
     "metadata": {},
     "output_type": "execute_result"
    }
   ],
   "source": [
    "number_of_Hexagonal_peaks = []\n",
    "for i in range(0,172):\n",
    "    number_of_Hexagonal_peaks.append(0)\n",
    "len(number_of_Hexagonal_peaks)"
   ],
   "metadata": {
    "collapsed": false,
    "pycharm": {
     "name": "#%%\n"
    }
   }
  },
  {
   "cell_type": "code",
   "execution_count": 41,
   "outputs": [],
   "source": [
    "for x in df_xrd_ind:\n",
    "    j = df_xrd['chart'][x]\n",
    "    if df_xrd['y'][x] == 'Hexagonal':\n",
    "        for i in j:\n",
    "            if int(i[0])<=i[0]<int(i[0]+1):\n",
    "                number_of_Hexagonal_peaks[int(i[0])]+=1"
   ],
   "metadata": {
    "collapsed": false,
    "pycharm": {
     "name": "#%%\n"
    }
   }
  },
  {
   "cell_type": "code",
   "execution_count": 42,
   "outputs": [
    {
     "data": {
      "text/plain": "<Figure size 1224x432 with 1 Axes>",
      "image/png": "[encoded data removed]"
     },
     "metadata": {
      "needs_background": "light"
     },
     "output_type": "display_data"
    }
   ],
   "source": [
    "plt.figure(figsize=(17,6),)\n",
    "plt.xlabel('2theta', fontsize = 20)\n",
    "\n",
    "plt.ylabel('Number', fontsize = 20)\n",
    "plt.title('sum_of_reflexes_per_pik_Hexagonal', fontsize = 20)\n",
    "plt.bar(range(172), number_of_Hexagonal_peaks)\n",
    "plt.savefig(r'C:\\Users\\Admin\\Documents\\Inżynierka\\Wykresy\\sum_of_reflexes_per_pik_Hexagonal9.png')"
   ],
   "metadata": {
    "collapsed": false,
    "pycharm": {
     "name": "#%%\n"
    }
   }
  },
  {
   "cell_type": "markdown",
   "source": [
    "Wykres dla układu Cubic"
   ],
   "metadata": {
    "collapsed": false,
    "pycharm": {
     "name": "#%% md\n"
    }
   }
  },
  {
   "cell_type": "code",
   "execution_count": 43,
   "outputs": [
    {
     "data": {
      "text/plain": "172"
     },
     "execution_count": 43,
     "metadata": {},
     "output_type": "execute_result"
    }
   ],
   "source": [
    "number_of_Cubic_peaks = []\n",
    "for i in range(0,172):\n",
    "    number_of_Cubic_peaks.append(0)\n",
    "len(number_of_Cubic_peaks)"
   ],
   "metadata": {
    "collapsed": false,
    "pycharm": {
     "name": "#%%\n"
    }
   }
  },
  {
   "cell_type": "code",
   "execution_count": 44,
   "outputs": [],
   "source": [
    "for x in df_xrd_ind:\n",
    "    j = df_xrd['chart'][x]\n",
    "    if df_xrd['y'][x] == 'Cubic':\n",
    "        for i in j:\n",
    "            if int(i[0])<=i[0]<int(i[0]+1):\n",
    "                number_of_Cubic_peaks[int(i[0])]+=1"
   ],
   "metadata": {
    "collapsed": false,
    "pycharm": {
     "name": "#%%\n"
    }
   }
  },
  {
   "cell_type": "code",
   "execution_count": 45,
   "outputs": [
    {
     "data": {
      "text/plain": "<Figure size 1224x432 with 1 Axes>",
      "image/png": "[encoded data removed]"
     },
     "metadata": {
      "needs_background": "light"
     },
     "output_type": "display_data"
    }
   ],
   "source": [
    "plt.figure(figsize=(17,6),)\n",
    "plt.xlabel('2theta', fontsize = 20)\n",
    "\n",
    "plt.ylabel('Number', fontsize = 20)\n",
    "plt.title('sum_of_reflexes_per_pik_Cubic', fontsize = 20)\n",
    "plt.bar(range(172), number_of_Cubic_peaks)\n",
    "plt.savefig(r'C:\\Users\\Admin\\Documents\\Inżynierka\\Wykresy\\sum_of_reflexes_per_pik_Cubic9.png')"
   ],
   "metadata": {
    "collapsed": false,
    "pycharm": {
     "name": "#%%\n"
    }
   }
  },
  {
   "cell_type": "markdown",
   "source": [
    "Wykres dla układu Triclinic"
   ],
   "metadata": {
    "collapsed": false,
    "pycharm": {
     "name": "#%% md\n"
    }
   }
  },
  {
   "cell_type": "code",
   "execution_count": 46,
   "outputs": [
    {
     "data": {
      "text/plain": "172"
     },
     "execution_count": 46,
     "metadata": {},
     "output_type": "execute_result"
    }
   ],
   "source": [
    "number_of_Triclinic_peaks = []\n",
    "for i in range(0,172):\n",
    "    number_of_Triclinic_peaks.append(0)\n",
    "len(number_of_Triclinic_peaks)"
   ],
   "metadata": {
    "collapsed": false,
    "pycharm": {
     "name": "#%%\n"
    }
   }
  },
  {
   "cell_type": "code",
   "execution_count": 47,
   "outputs": [],
   "source": [
    "for x in df_xrd_ind:\n",
    "    j = df_xrd['chart'][x]\n",
    "    if df_xrd['y'][x] == 'Triclinic (Anorthic)':\n",
    "        for i in j:\n",
    "            if int(i[0])<=i[0]<int(i[0]+1):\n",
    "                number_of_Triclinic_peaks[int(i[0])]+=1"
   ],
   "metadata": {
    "collapsed": false,
    "pycharm": {
     "name": "#%%\n"
    }
   }
  },
  {
   "cell_type": "code",
   "execution_count": 48,
   "outputs": [
    {
     "data": {
      "text/plain": "<Figure size 1224x432 with 1 Axes>",
      "image/png": "[encoded data removed]"
     },
     "metadata": {
      "needs_background": "light"
     },
     "output_type": "display_data"
    }
   ],
   "source": [
    "plt.figure(figsize=(17,6),)\n",
    "plt.xlabel('2theta', fontsize = 20)\n",
    "\n",
    "plt.ylabel('Number', fontsize = 20)\n",
    "plt.title('sum_of_reflexes_per_pik_Triclinic', fontsize = 20)\n",
    "plt.bar(range(172), number_of_Triclinic_peaks)\n",
    "plt.savefig(r'C:\\Users\\Admin\\Documents\\Inżynierka\\Wykresy\\sum_of_reflexes_per_pik_Triclinic9.png')"
   ],
   "metadata": {
    "collapsed": false,
    "pycharm": {
     "name": "#%%\n"
    }
   }
  },
  {
   "cell_type": "code",
   "execution_count": 49,
   "outputs": [],
   "source": [
    "#number_of_Triclinic_peaks\n",
    "\n"
   ],
   "metadata": {
    "collapsed": false,
    "pycharm": {
     "name": "#%%\n"
    }
   }
  },
  {
   "cell_type": "markdown",
   "source": [
    "Średnia liczba pików dla każdego kąta"
   ],
   "metadata": {
    "collapsed": false,
    "pycharm": {
     "name": "#%% md\n"
    }
   }
  },
  {
   "cell_type": "code",
   "execution_count": 49,
   "outputs": [],
   "source": [
    "\n",
    "\n",
    "\n",
    "\n"
   ],
   "metadata": {
    "collapsed": false,
    "pycharm": {
     "name": "#%%\n"
    }
   }
  },
  {
   "cell_type": "markdown",
   "source": [
    "Standaryzacja danych lokalna. Maximum zawsze to 100\n",
    "\n"
   ],
   "metadata": {
    "collapsed": false,
    "pycharm": {
     "name": "#%% md\n"
    }
   },
   "outputs": [
    {
     "ename": "SyntaxError",
     "evalue": "invalid syntax (Temp/ipykernel_500/2685086146.py, line 1)",
     "output_type": "error",
     "traceback": [
      "\u001B[1;36m  File \u001B[1;32m\"C:\\Users\\Admin\\AppData\\Local\\Temp/ipykernel_500/2685086146.py\"\u001B[1;36m, line \u001B[1;32m1\u001B[0m\n\u001B[1;33m    Standaryzacja danych lokalna\u001B[0m\n\u001B[1;37m                  ^\u001B[0m\n\u001B[1;31mSyntaxError\u001B[0m\u001B[1;31m:\u001B[0m invalid syntax\n"
     ]
    }
   ],
   "execution_count": 80
  },
  {
   "cell_type": "code",
   "execution_count": 50,
   "outputs": [],
   "source": [
    "for i in df_xrd['chart']:\n",
    "    local_values = []\n",
    "    for k in i:\n",
    "        local_values.append(k[1])\n",
    "    if max(local_values)!= 100:\n",
    "        for k in i:\n",
    "            k[1] = round((k[1]/max(local_values))*100, 4)\n",
    "\n",
    "\n",
    "\n"
   ],
   "metadata": {
    "collapsed": false,
    "pycharm": {
     "name": "#%%\n"
    }
   }
  },
  {
   "cell_type": "markdown",
   "source": [
    "Średnai wysokość piku\n"
   ],
   "metadata": {
    "collapsed": false,
    "pycharm": {
     "name": "#%% md\n"
    }
   }
  },
  {
   "cell_type": "code",
   "execution_count": 51,
   "outputs": [
    {
     "data": {
      "text/plain": "172"
     },
     "execution_count": 51,
     "metadata": {},
     "output_type": "execute_result"
    }
   ],
   "source": [
    "hihgest_peaks = []\n",
    "for i in range(0,172):\n",
    "    hihgest_peaks.append(0)\n",
    "len(hihgest_peaks)"
   ],
   "metadata": {
    "collapsed": false,
    "pycharm": {
     "name": "#%%\n"
    }
   }
  },
  {
   "cell_type": "code",
   "execution_count": 52,
   "outputs": [],
   "source": [
    "for x in df_xrd_ind:\n",
    "    j = df_xrd['chart'][x]\n",
    "\n",
    "    for i in j:\n",
    "        if int(i[0])<=i[0]<int(i[0]+1):\n",
    "            if i[1]>hihgest_peaks[int(i[0])]:\n",
    "                hihgest_peaks[int(i[0])] = i[1]"
   ],
   "metadata": {
    "collapsed": false,
    "pycharm": {
     "name": "#%%\n"
    }
   }
  },
  {
   "cell_type": "code",
   "execution_count": 53,
   "outputs": [
    {
     "data": {
      "text/plain": "<Figure size 1224x432 with 1 Axes>",
      "image/png": "[encoded data removed]"
     },
     "metadata": {
      "needs_background": "light"
     },
     "output_type": "display_data"
    }
   ],
   "source": [
    "plt.figure(figsize=(17,6),)\n",
    "plt.xlabel('2theta', fontsize = 20)\n",
    "\n",
    "plt.ylabel('Number', fontsize = 20)\n",
    "plt.title('Highest_peak_per_2theta', fontsize = 20)\n",
    "plt.bar(range(172), hihgest_peaks)\n",
    "plt.savefig(r'C:\\Users\\Admin\\Documents\\Inżynierka\\Wykresy\\Highest_peak_per_2thetaa9.png')"
   ],
   "metadata": {
    "collapsed": false,
    "pycharm": {
     "name": "#%%\n"
    }
   }
  },
  {
   "cell_type": "code",
   "execution_count": 53,
   "outputs": [],
   "source": [],
   "metadata": {
    "collapsed": false,
    "pycharm": {
     "name": "#%%\n"
    }
   }
  },
  {
   "cell_type": "markdown",
   "source": [
    "Najwyższe piki dla układu Orthorhombic"
   ],
   "metadata": {
    "collapsed": false,
    "pycharm": {
     "name": "#%% md\n"
    }
   }
  },
  {
   "cell_type": "code",
   "execution_count": 54,
   "outputs": [
    {
     "data": {
      "text/plain": "172"
     },
     "execution_count": 54,
     "metadata": {},
     "output_type": "execute_result"
    }
   ],
   "source": [
    "hihgest_peaks_Orthorhombi = []\n",
    "for i in range(0,172):\n",
    "    hihgest_peaks_Orthorhombi.append(0)\n",
    "len(hihgest_peaks)"
   ],
   "metadata": {
    "collapsed": false,
    "pycharm": {
     "name": "#%%\n"
    }
   }
  },
  {
   "cell_type": "code",
   "execution_count": 55,
   "outputs": [],
   "source": [
    "for x in df_xrd_ind:\n",
    "    j = df_xrd['chart'][x]\n",
    "    if df_xrd['y'][x] == 'Orthorhombic':\n",
    "        for i in j:\n",
    "            if int(i[0])<=i[0]<int(i[0]+1):\n",
    "                if i[1]>hihgest_peaks_Orthorhombi[int(i[0])]:\n",
    "                    hihgest_peaks_Orthorhombi[int(i[0])] = i[1]"
   ],
   "metadata": {
    "collapsed": false,
    "pycharm": {
     "name": "#%%\n"
    }
   }
  },
  {
   "cell_type": "code",
   "execution_count": 56,
   "outputs": [
    {
     "data": {
      "text/plain": "<Figure size 1224x432 with 1 Axes>",
      "image/png": "[encoded data removed]"
     },
     "metadata": {
      "needs_background": "light"
     },
     "output_type": "display_data"
    }
   ],
   "source": [
    "plt.figure(figsize=(17,6),)\n",
    "plt.xlabel('2theta', fontsize = 20)\n",
    "\n",
    "plt.ylabel('Number', fontsize = 20)\n",
    "plt.title('Highest_peak_per_2thetaa_Orthorhombic', fontsize = 20)\n",
    "plt.bar(range(172), hihgest_peaks_Orthorhombi)\n",
    "plt.savefig(r'C:\\Users\\Admin\\Documents\\Inżynierka\\Wykresy\\Highest_peak_per_2thetaa_Orthorhombic9.png')"
   ],
   "metadata": {
    "collapsed": false,
    "pycharm": {
     "name": "#%%\n"
    }
   }
  },
  {
   "cell_type": "markdown",
   "source": [
    "Najwyższe piki dla układu Rhombohedral"
   ],
   "metadata": {
    "collapsed": false,
    "pycharm": {
     "name": "#%% md\n"
    }
   }
  },
  {
   "cell_type": "code",
   "execution_count": 57,
   "outputs": [
    {
     "data": {
      "text/plain": "172"
     },
     "execution_count": 57,
     "metadata": {},
     "output_type": "execute_result"
    }
   ],
   "source": [
    "hihgest_peaks_Rhombohedral = []\n",
    "for i in range(0,172):\n",
    "    hihgest_peaks_Rhombohedral.append(0)\n",
    "len(hihgest_peaks)"
   ],
   "metadata": {
    "collapsed": false,
    "pycharm": {
     "name": "#%%\n"
    }
   }
  },
  {
   "cell_type": "code",
   "execution_count": 58,
   "outputs": [],
   "source": [
    "for x in df_xrd_ind:\n",
    "    j = df_xrd['chart'][x]\n",
    "    if df_xrd['y'][x] == 'Rhombohedral':\n",
    "        for i in j:\n",
    "            if int(i[0])<=i[0]<int(i[0]+1):\n",
    "                if i[1]>hihgest_peaks_Rhombohedral[int(i[0])]:\n",
    "                    hihgest_peaks_Rhombohedral[int(i[0])] = i[1]"
   ],
   "metadata": {
    "collapsed": false,
    "pycharm": {
     "name": "#%%\n"
    }
   }
  },
  {
   "cell_type": "code",
   "execution_count": 59,
   "outputs": [
    {
     "data": {
      "text/plain": "<Figure size 1224x432 with 1 Axes>",
      "image/png": "[encoded data removed]"
     },
     "metadata": {
      "needs_background": "light"
     },
     "output_type": "display_data"
    }
   ],
   "source": [
    "plt.figure(figsize=(17,6),)\n",
    "plt.xlabel('2theta', fontsize = 20)\n",
    "\n",
    "plt.ylabel('Number', fontsize = 20)\n",
    "plt.title('Highest_peak_per_2thetaa_Rhombohedral', fontsize = 20)\n",
    "plt.bar(range(172), hihgest_peaks_Rhombohedral)\n",
    "plt.savefig(r'C:\\Users\\Admin\\Documents\\Inżynierka\\Wykresy\\Highest_peak_per_2thetaa_Rhombohedral9.png')"
   ],
   "metadata": {
    "collapsed": false,
    "pycharm": {
     "name": "#%%\n"
    }
   }
  },
  {
   "cell_type": "markdown",
   "source": [
    "Najwyższe piki dla układu Tetragonal"
   ],
   "metadata": {
    "collapsed": false,
    "pycharm": {
     "name": "#%% md\n"
    }
   }
  },
  {
   "cell_type": "code",
   "execution_count": 60,
   "outputs": [
    {
     "data": {
      "text/plain": "172"
     },
     "execution_count": 60,
     "metadata": {},
     "output_type": "execute_result"
    }
   ],
   "source": [
    "hihgest_peaks_Tetragonal = []\n",
    "for i in range(0,172):\n",
    "    hihgest_peaks_Tetragonal.append(0)\n",
    "len(hihgest_peaks)"
   ],
   "metadata": {
    "collapsed": false,
    "pycharm": {
     "name": "#%%\n"
    }
   }
  },
  {
   "cell_type": "code",
   "execution_count": 61,
   "outputs": [],
   "source": [
    "for x in df_xrd_ind:\n",
    "    j = df_xrd['chart'][x]\n",
    "    if df_xrd['y'][x] == 'Tetragonal':\n",
    "        for i in j:\n",
    "            if int(i[0])<=i[0]<int(i[0]+1):\n",
    "                if i[1]>hihgest_peaks_Tetragonal[int(i[0])]:\n",
    "                    hihgest_peaks_Tetragonal[int(i[0])] = i[1]"
   ],
   "metadata": {
    "collapsed": false,
    "pycharm": {
     "name": "#%%\n"
    }
   }
  },
  {
   "cell_type": "code",
   "execution_count": 62,
   "outputs": [
    {
     "data": {
      "text/plain": "<Figure size 1224x432 with 1 Axes>",
      "image/png": "[encoded data removed]"
     },
     "metadata": {
      "needs_background": "light"
     },
     "output_type": "display_data"
    }
   ],
   "source": [
    "plt.figure(figsize=(17,6),)\n",
    "plt.xlabel('2theta', fontsize = 20)\n",
    "\n",
    "plt.ylabel('Number', fontsize = 20)\n",
    "plt.title('Highest_peak_per_2thetaa_Tetragonal', fontsize = 20)\n",
    "plt.bar(range(172), hihgest_peaks_Tetragonal)\n",
    "plt.savefig(r'C:\\Users\\Admin\\Documents\\Inżynierka\\Wykresy\\Highest_peak_per_2thetaa_Tetragonal9.png')"
   ],
   "metadata": {
    "collapsed": false,
    "pycharm": {
     "name": "#%%\n"
    }
   }
  },
  {
   "cell_type": "markdown",
   "source": [
    "Najwyższe piki dla układu Monoclinic"
   ],
   "metadata": {
    "collapsed": false,
    "pycharm": {
     "name": "#%% md\n"
    }
   }
  },
  {
   "cell_type": "code",
   "execution_count": 63,
   "outputs": [
    {
     "data": {
      "text/plain": "172"
     },
     "execution_count": 63,
     "metadata": {},
     "output_type": "execute_result"
    }
   ],
   "source": [
    "hihgest_peaks_Monoclinic = []\n",
    "for i in range(0,172):\n",
    "    hihgest_peaks_Monoclinic.append(0)\n",
    "len(hihgest_peaks)"
   ],
   "metadata": {
    "collapsed": false,
    "pycharm": {
     "name": "#%%\n"
    }
   }
  },
  {
   "cell_type": "code",
   "execution_count": 64,
   "outputs": [],
   "source": [
    "for x in df_xrd_ind:\n",
    "    j = df_xrd['chart'][x]\n",
    "    if df_xrd['y'][x] == 'Monoclinic':\n",
    "        for i in j:\n",
    "            if int(i[0])<=i[0]<int(i[0]+1):\n",
    "                if i[1]>hihgest_peaks_Monoclinic[int(i[0])]:\n",
    "                    hihgest_peaks_Monoclinic[int(i[0])] = i[1]"
   ],
   "metadata": {
    "collapsed": false,
    "pycharm": {
     "name": "#%%\n"
    }
   }
  },
  {
   "cell_type": "code",
   "execution_count": 65,
   "outputs": [
    {
     "data": {
      "text/plain": "<Figure size 1224x432 with 1 Axes>",
      "image/png": "[encoded data removed]"
     },
     "metadata": {
      "needs_background": "light"
     },
     "output_type": "display_data"
    }
   ],
   "source": [
    "plt.figure(figsize=(17,6),)\n",
    "plt.xlabel('2theta', fontsize = 20)\n",
    "\n",
    "plt.ylabel('Number', fontsize = 20)\n",
    "plt.title('Highest_peak_per_2thetaa_Monoclinic', fontsize = 20)\n",
    "plt.bar(range(172), hihgest_peaks_Monoclinic)\n",
    "plt.savefig(r'C:\\Users\\Admin\\Documents\\Inżynierka\\Wykresy\\Highest_peak_per_2thetaa_Monoclinic9.png')"
   ],
   "metadata": {
    "collapsed": false,
    "pycharm": {
     "name": "#%%\n"
    }
   }
  },
  {
   "cell_type": "markdown",
   "source": [
    "Najwyższe piki dla układu Hexagonal"
   ],
   "metadata": {
    "collapsed": false,
    "pycharm": {
     "name": "#%% md\n"
    }
   }
  },
  {
   "cell_type": "code",
   "execution_count": 66,
   "outputs": [
    {
     "data": {
      "text/plain": "172"
     },
     "execution_count": 66,
     "metadata": {},
     "output_type": "execute_result"
    }
   ],
   "source": [
    "hihgest_peaks_Hexagonal = []\n",
    "for i in range(0,172):\n",
    "    hihgest_peaks_Hexagonal.append(0)\n",
    "len(hihgest_peaks)"
   ],
   "metadata": {
    "collapsed": false,
    "pycharm": {
     "name": "#%%\n"
    }
   }
  },
  {
   "cell_type": "code",
   "execution_count": 67,
   "outputs": [],
   "source": [
    "for x in df_xrd_ind:\n",
    "    j = df_xrd['chart'][x]\n",
    "    if df_xrd['y'][x] == 'Hexagonal':\n",
    "        for i in j:\n",
    "            if int(i[0])<=i[0]<int(i[0]+1):\n",
    "                if i[1]>hihgest_peaks_Hexagonal[int(i[0])]:\n",
    "                    hihgest_peaks_Hexagonal[int(i[0])] = i[1]"
   ],
   "metadata": {
    "collapsed": false,
    "pycharm": {
     "name": "#%%\n"
    }
   }
  },
  {
   "cell_type": "code",
   "execution_count": 68,
   "outputs": [
    {
     "data": {
      "text/plain": "<Figure size 1224x432 with 1 Axes>",
      "image/png": "[encoded data removed]"
     },
     "metadata": {
      "needs_background": "light"
     },
     "output_type": "display_data"
    }
   ],
   "source": [
    "plt.figure(figsize=(17,6),)\n",
    "plt.xlabel('2theta', fontsize = 20)\n",
    "\n",
    "plt.ylabel('Number', fontsize = 20)\n",
    "plt.title('Highest_peak_per_2thetaa_Hexagonal', fontsize = 20)\n",
    "plt.bar(range(172), hihgest_peaks_Hexagonal)\n",
    "plt.savefig(r'C:\\Users\\Admin\\Documents\\Inżynierka\\Wykresy\\Highest_peak_per_2thetaa_Hexagonal9.png')"
   ],
   "metadata": {
    "collapsed": false,
    "pycharm": {
     "name": "#%%\n"
    }
   }
  },
  {
   "cell_type": "markdown",
   "source": [
    "Najwyższe piki dla układu Cubic"
   ],
   "metadata": {
    "collapsed": false,
    "pycharm": {
     "name": "#%% md\n"
    }
   }
  },
  {
   "cell_type": "code",
   "execution_count": 69,
   "outputs": [
    {
     "data": {
      "text/plain": "172"
     },
     "execution_count": 69,
     "metadata": {},
     "output_type": "execute_result"
    }
   ],
   "source": [
    "hihgest_peaks_Cubic = []\n",
    "for i in range(0,172):\n",
    "    hihgest_peaks_Cubic.append(0)\n",
    "len(hihgest_peaks)"
   ],
   "metadata": {
    "collapsed": false,
    "pycharm": {
     "name": "#%%\n"
    }
   }
  },
  {
   "cell_type": "code",
   "execution_count": 70,
   "outputs": [],
   "source": [
    "for x in df_xrd_ind:\n",
    "    j = df_xrd['chart'][x]\n",
    "    if df_xrd['y'][x] == 'Cubic':\n",
    "        for i in j:\n",
    "            if int(i[0])<=i[0]<int(i[0]+1):\n",
    "                if i[1]>hihgest_peaks_Cubic[int(i[0])]:\n",
    "                    hihgest_peaks_Cubic[int(i[0])] = i[1]"
   ],
   "metadata": {
    "collapsed": false,
    "pycharm": {
     "name": "#%%\n"
    }
   }
  },
  {
   "cell_type": "code",
   "execution_count": 71,
   "outputs": [
    {
     "data": {
      "text/plain": "<Figure size 1224x432 with 1 Axes>",
      "image/png": "[encoded data removed]"
     },
     "metadata": {
      "needs_background": "light"
     },
     "output_type": "display_data"
    }
   ],
   "source": [
    "plt.figure(figsize=(17,6),)\n",
    "plt.xlabel('2theta', fontsize = 20)\n",
    "\n",
    "plt.ylabel('Number', fontsize = 20)\n",
    "plt.title('Highest_peak_per_2thetaa_Cubic', fontsize = 20)\n",
    "plt.bar(range(172), hihgest_peaks_Cubic)\n",
    "plt.savefig(r'C:\\Users\\Admin\\Documents\\Inżynierka\\Wykresy\\Highest_peak_per_2thetaa_Cubic29.png')"
   ],
   "metadata": {
    "collapsed": false,
    "pycharm": {
     "name": "#%%\n"
    }
   }
  },
  {
   "cell_type": "markdown",
   "source": [
    "Najwyższe piki dla układu Triclinic)"
   ],
   "metadata": {
    "collapsed": false,
    "pycharm": {
     "name": "#%% md\n"
    }
   }
  },
  {
   "cell_type": "code",
   "execution_count": 72,
   "outputs": [
    {
     "data": {
      "text/plain": "172"
     },
     "execution_count": 72,
     "metadata": {},
     "output_type": "execute_result"
    }
   ],
   "source": [
    "hihgest_peaks_Triclinic = []\n",
    "for i in range(0,172):\n",
    "    hihgest_peaks_Triclinic.append(0)\n",
    "len(hihgest_peaks)"
   ],
   "metadata": {
    "collapsed": false,
    "pycharm": {
     "name": "#%%\n"
    }
   }
  },
  {
   "cell_type": "code",
   "execution_count": 73,
   "outputs": [],
   "source": [
    "for x in df_xrd_ind:\n",
    "    j = df_xrd['chart'][x]\n",
    "    if df_xrd['y'][x] == 'Triclinic (Anorthic)':\n",
    "        for i in j:\n",
    "            if int(i[0])<=i[0]<int(i[0]+1):\n",
    "                if i[1]>hihgest_peaks_Triclinic[int(i[0])]:\n",
    "                    hihgest_peaks_Triclinic[int(i[0])] = i[1]"
   ],
   "metadata": {
    "collapsed": false,
    "pycharm": {
     "name": "#%%\n"
    }
   }
  },
  {
   "cell_type": "code",
   "execution_count": 74,
   "outputs": [
    {
     "data": {
      "text/plain": "<Figure size 1224x432 with 1 Axes>",
      "image/png": "[encoded data removed]"
     },
     "metadata": {
      "needs_background": "light"
     },
     "output_type": "display_data"
    }
   ],
   "source": [
    "plt.figure(figsize=(17,6),)\n",
    "plt.xlabel('2theta', fontsize = 20)\n",
    "\n",
    "plt.ylabel('Number', fontsize = 20)\n",
    "plt.title('Highest_peak_per_2thetaa_Triclinic', fontsize = 20)\n",
    "plt.bar(range(172), hihgest_peaks_Triclinic)\n",
    "plt.savefig(r'C:\\Users\\Admin\\Documents\\Inżynierka\\Wykresy\\Highest_peak_per_2thetaa_Triclinicc9.png')"
   ],
   "metadata": {
    "collapsed": false,
    "pycharm": {
     "name": "#%%\n"
    }
   }
  },
  {
   "cell_type": "markdown",
   "source": [],
   "metadata": {
    "collapsed": false,
    "pycharm": {
     "name": "#%% md\n"
    }
   }
  },
  {
   "cell_type": "markdown",
   "source": [
    "Średnia wysokość piku"
   ],
   "metadata": {
    "collapsed": false,
    "pycharm": {
     "name": "#%% md\n"
    }
   }
  },
  {
   "cell_type": "code",
   "execution_count": 75,
   "outputs": [],
   "source": [
    "def Average_advanced(lst, num_samples):\n",
    "    return sum(lst) / num_samples"
   ],
   "metadata": {
    "collapsed": false,
    "pycharm": {
     "name": "#%%\n"
    }
   }
  },
  {
   "cell_type": "code",
   "execution_count": 76,
   "outputs": [],
   "source": [
    "list_of_height_peaks = []\n",
    "for i in range(0,172):\n",
    "    list_of_height_peaks.append([])\n",
    "\n",
    "avarange_height_peaks = []\n",
    "for i in range(0,172):\n",
    "    avarange_height_peaks.append(0)\n"
   ],
   "metadata": {
    "collapsed": false,
    "pycharm": {
     "name": "#%%\n"
    }
   }
  },
  {
   "cell_type": "code",
   "execution_count": 77,
   "outputs": [],
   "source": [
    "num_samples = 0\n",
    "for x in df_xrd_ind:\n",
    "    j = df_xrd['chart'][x]\n",
    "    for i in j:\n",
    "        if int(i[0])<=i[0]<int(i[0]+1):\n",
    "            list_of_height_peaks[int(i[0])].append(i[1])\n",
    "    num_samples+=1"
   ],
   "metadata": {
    "collapsed": false,
    "pycharm": {
     "name": "#%%\n"
    }
   }
  },
  {
   "cell_type": "code",
   "execution_count": 77,
   "outputs": [],
   "source": [],
   "metadata": {
    "collapsed": false,
    "pycharm": {
     "name": "#%%\n"
    }
   }
  },
  {
   "cell_type": "code",
   "execution_count": 78,
   "outputs": [],
   "source": [
    "for i in range(0,172):\n",
    "    j = list_of_height_peaks[i]\n",
    "    avarange_height_peaks[i] = round(Average_advanced(j, num_samples),3)\n"
   ],
   "metadata": {
    "collapsed": false,
    "pycharm": {
     "name": "#%%\n"
    }
   }
  },
  {
   "cell_type": "code",
   "execution_count": 79,
   "outputs": [],
   "source": [
    "#avarange_height_peaks"
   ],
   "metadata": {
    "collapsed": false,
    "pycharm": {
     "name": "#%%\n"
    }
   }
  },
  {
   "cell_type": "code",
   "execution_count": 80,
   "outputs": [
    {
     "data": {
      "text/plain": "<Figure size 1224x432 with 1 Axes>",
      "image/png": "[encoded data removed]"
     },
     "metadata": {
      "needs_background": "light"
     },
     "output_type": "display_data"
    }
   ],
   "source": [
    "plt.figure(figsize=(17,6),)\n",
    "plt.xlabel('2theta', fontsize = 20)\n",
    "\n",
    "plt.ylabel('Intensity', fontsize = 20)\n",
    "plt.title('Avarange_height_of_peaks', fontsize = 20)\n",
    "plt.bar(range(172), avarange_height_peaks)\n",
    "plt.savefig(r'C:\\Users\\Admin\\Documents\\Inżynierka\\Wykresy\\Avarange_height_of_peaks29.png')"
   ],
   "metadata": {
    "collapsed": false,
    "pycharm": {
     "name": "#%%\n"
    }
   }
  },
  {
   "cell_type": "markdown",
   "source": [
    "Średnia wysokość pików dla układu Orthorhombic"
   ],
   "metadata": {
    "collapsed": false
   }
  },
  {
   "cell_type": "code",
   "execution_count": 81,
   "outputs": [],
   "source": [
    "list_of_height_peaks_Orthorhombic = []\n",
    "for i in range(0,172):\n",
    "    list_of_height_peaks_Orthorhombic.append([])\n",
    "\n",
    "avarange_height_peaks_Orthorhombic = []\n",
    "for i in range(0,172):\n",
    "    avarange_height_peaks_Orthorhombic.append(0)\n",
    "\n"
   ],
   "metadata": {
    "collapsed": false,
    "pycharm": {
     "name": "#%%\n"
    }
   }
  },
  {
   "cell_type": "code",
   "execution_count": 82,
   "outputs": [],
   "source": [
    "num_samples_Orthorhombic = 0\n",
    "for x in df_xrd_ind:\n",
    "    j = df_xrd['chart'][x]\n",
    "    if df_xrd['y'][x] == 'Orthorhombic':\n",
    "        for i in j:\n",
    "            if int(i[0])<=i[0]<int(i[0]+1):\n",
    "                list_of_height_peaks_Orthorhombic[int(i[0])].append(i[1])\n",
    "    num_samples_Orthorhombic +=1"
   ],
   "metadata": {
    "collapsed": false,
    "pycharm": {
     "name": "#%%\n"
    }
   }
  },
  {
   "cell_type": "code",
   "execution_count": 82,
   "outputs": [],
   "source": [],
   "metadata": {
    "collapsed": false,
    "pycharm": {
     "name": "#%%\n"
    }
   }
  },
  {
   "cell_type": "code",
   "execution_count": 83,
   "outputs": [],
   "source": [
    "for i in range(0,172):\n",
    "    j = list_of_height_peaks_Orthorhombic[i]\n",
    "    avarange_height_peaks_Orthorhombic[i] = round(Average_advanced(j, num_samples_Orthorhombic),3)\n"
   ],
   "metadata": {
    "collapsed": false,
    "pycharm": {
     "name": "#%%\n"
    }
   }
  },
  {
   "cell_type": "code",
   "execution_count": 84,
   "outputs": [],
   "source": [
    "#avarange_height_peaks"
   ],
   "metadata": {
    "collapsed": false,
    "pycharm": {
     "name": "#%%\n"
    }
   }
  },
  {
   "cell_type": "code",
   "execution_count": 85,
   "outputs": [
    {
     "data": {
      "text/plain": "<Figure size 1224x432 with 1 Axes>",
      "image/png": "[encoded data removed]"
     },
     "metadata": {
      "needs_background": "light"
     },
     "output_type": "display_data"
    }
   ],
   "source": [
    "plt.figure(figsize=(17,6),)\n",
    "plt.xlabel('2theta', fontsize = 20)\n",
    "\n",
    "plt.ylabel('Intensity', fontsize = 20)\n",
    "plt.title('Avarange_height_of_peaks_Orthorhombic', fontsize = 20)\n",
    "plt.bar(range(172), avarange_height_peaks_Orthorhombic)\n",
    "plt.savefig(r'C:\\Users\\Admin\\Documents\\Inżynierka\\Wykresy\\Avarange_height_of_peaks_Orthorhombic30.png')"
   ],
   "metadata": {
    "collapsed": false,
    "pycharm": {
     "name": "#%%\n"
    }
   }
  },
  {
   "cell_type": "markdown",
   "source": [
    "Średnia wysokość pików dla układu Rhombohedral"
   ],
   "metadata": {
    "collapsed": false
   }
  },
  {
   "cell_type": "code",
   "execution_count": 86,
   "outputs": [],
   "source": [
    "list_of_height_peaks_Rhombohedral = []\n",
    "for i in range(0,172):\n",
    "    list_of_height_peaks_Rhombohedral.append([])\n",
    "\n",
    "avarange_height_peaks_Rhombohedral = []\n",
    "for i in range(0,172):\n",
    "    avarange_height_peaks_Rhombohedral.append(0)\n"
   ],
   "metadata": {
    "collapsed": false,
    "pycharm": {
     "name": "#%%\n"
    }
   }
  },
  {
   "cell_type": "code",
   "execution_count": 87,
   "outputs": [],
   "source": [
    "num_samples_Rhombohedral = 0\n",
    "for x in df_xrd_ind:\n",
    "    j = df_xrd['chart'][x]\n",
    "    if df_xrd['y'][x] == 'Rhombohedral':\n",
    "        for i in j:\n",
    "            if int(i[0])<=i[0]<int(i[0]+1):\n",
    "                list_of_height_peaks_Rhombohedral[int(i[0])].append(i[1])\n",
    "    num_samples_Rhombohedral +=1"
   ],
   "metadata": {
    "collapsed": false,
    "pycharm": {
     "name": "#%%\n"
    }
   }
  },
  {
   "cell_type": "code",
   "execution_count": 87,
   "outputs": [],
   "source": [],
   "metadata": {
    "collapsed": false,
    "pycharm": {
     "name": "#%%\n"
    }
   }
  },
  {
   "cell_type": "code",
   "execution_count": 88,
   "outputs": [],
   "source": [
    "for i in range(0,172):\n",
    "    j = list_of_height_peaks_Rhombohedral[i]\n",
    "    avarange_height_peaks_Rhombohedral[i] = round(Average_advanced(j, num_samples_Rhombohedral),3)\n"
   ],
   "metadata": {
    "collapsed": false,
    "pycharm": {
     "name": "#%%\n"
    }
   }
  },
  {
   "cell_type": "code",
   "execution_count": 89,
   "outputs": [],
   "source": [
    "#avarange_height_peaks"
   ],
   "metadata": {
    "collapsed": false,
    "pycharm": {
     "name": "#%%\n"
    }
   }
  },
  {
   "cell_type": "code",
   "execution_count": 90,
   "outputs": [
    {
     "data": {
      "text/plain": "<Figure size 1224x432 with 1 Axes>",
      "image/png": "[encoded data removed]"
     },
     "metadata": {
      "needs_background": "light"
     },
     "output_type": "display_data"
    }
   ],
   "source": [
    "plt.figure(figsize=(17,6),)\n",
    "plt.xlabel('2theta', fontsize = 20)\n",
    "\n",
    "plt.ylabel('Intensity', fontsize = 20)\n",
    "plt.title('Avarange_height_of_peaks_Rhombohedral', fontsize = 20)\n",
    "plt.bar(range(172), avarange_height_peaks_Rhombohedral)\n",
    "plt.savefig(r'C:\\Users\\Admin\\Documents\\Inżynierka\\Wykresy\\Avarange_height_of_peaks_Rhombohedra29.png')"
   ],
   "metadata": {
    "collapsed": false,
    "pycharm": {
     "name": "#%%\n"
    }
   }
  },
  {
   "cell_type": "markdown",
   "source": [
    "Średnia wysokość pików dla układu Tetragonal\n"
   ],
   "metadata": {
    "collapsed": false
   }
  },
  {
   "cell_type": "code",
   "execution_count": 91,
   "outputs": [],
   "source": [
    "list_of_height_peaks_Tetragonal = []\n",
    "for i in range(0,172):\n",
    "    list_of_height_peaks_Tetragonal.append([])\n",
    "\n",
    "avarange_height_peaks_Tetragonal = []\n",
    "for i in range(0,172):\n",
    "    avarange_height_peaks_Tetragonal.append(0)\n"
   ],
   "metadata": {
    "collapsed": false,
    "pycharm": {
     "name": "#%%\n"
    }
   }
  },
  {
   "cell_type": "code",
   "execution_count": 92,
   "outputs": [],
   "source": [
    "num_samples_Tetragonal = 0\n",
    "for x in df_xrd_ind:\n",
    "    j = df_xrd['chart'][x]\n",
    "    if df_xrd['y'][x] == 'Tetragonal':\n",
    "        for i in j:\n",
    "            if int(i[0])<=i[0]<int(i[0]+1):\n",
    "                list_of_height_peaks_Tetragonal[int(i[0])].append(i[1])\n",
    "    num_samples_Tetragonal +=1"
   ],
   "metadata": {
    "collapsed": false,
    "pycharm": {
     "name": "#%%\n"
    }
   }
  },
  {
   "cell_type": "code",
   "execution_count": 92,
   "outputs": [],
   "source": [],
   "metadata": {
    "collapsed": false,
    "pycharm": {
     "name": "#%%\n"
    }
   }
  },
  {
   "cell_type": "code",
   "execution_count": 93,
   "outputs": [],
   "source": [
    "for i in range(0,172):\n",
    "    j = list_of_height_peaks_Tetragonal[i]\n",
    "    avarange_height_peaks_Tetragonal[i] = round(Average_advanced(j, num_samples_Tetragonal),3)\n"
   ],
   "metadata": {
    "collapsed": false,
    "pycharm": {
     "name": "#%%\n"
    }
   }
  },
  {
   "cell_type": "code",
   "execution_count": 94,
   "outputs": [],
   "source": [
    "#avarange_height_peaks"
   ],
   "metadata": {
    "collapsed": false,
    "pycharm": {
     "name": "#%%\n"
    }
   }
  },
  {
   "cell_type": "code",
   "execution_count": 95,
   "outputs": [
    {
     "data": {
      "text/plain": "<Figure size 1224x432 with 1 Axes>",
      "image/png": "[encoded data removed]"
     },
     "metadata": {
      "needs_background": "light"
     },
     "output_type": "display_data"
    }
   ],
   "source": [
    "plt.figure(figsize=(17,6),)\n",
    "plt.xlabel('2theta', fontsize = 20)\n",
    "\n",
    "plt.ylabel('Intensity', fontsize = 20)\n",
    "plt.title('Avarange_height_of_peaks_Tetragonal', fontsize = 20)\n",
    "plt.bar(range(172), avarange_height_peaks_Orthorhombic)\n",
    "plt.savefig(r'C:\\Users\\Admin\\Documents\\Inżynierka\\Wykresy\\Avarange_height_of_peaks_Tetragonal10.png')"
   ],
   "metadata": {
    "collapsed": false,
    "pycharm": {
     "name": "#%%\n"
    }
   }
  },
  {
   "cell_type": "markdown",
   "source": [
    "Średnia wysokość pików dla układu Monoclinic\n"
   ],
   "metadata": {
    "collapsed": false
   }
  },
  {
   "cell_type": "code",
   "execution_count": 96,
   "outputs": [],
   "source": [
    "list_of_height_peaks_Monoclinic = []\n",
    "for i in range(0,172):\n",
    "    list_of_height_peaks_Monoclinic.append([])\n",
    "\n",
    "avarange_height_peaks_Monoclinic = []\n",
    "for i in range(0,172):\n",
    "    avarange_height_peaks_Monoclinic.append(0)\n"
   ],
   "metadata": {
    "collapsed": false,
    "pycharm": {
     "name": "#%%\n"
    }
   }
  },
  {
   "cell_type": "code",
   "execution_count": 97,
   "outputs": [],
   "source": [
    "num_samples_Monoclinic = 0\n",
    "for x in df_xrd_ind:\n",
    "    j = df_xrd['chart'][x]\n",
    "    if df_xrd['y'][x] == 'Monoclinic':\n",
    "        for i in j:\n",
    "            if int(i[0])<=i[0]<int(i[0]+1):\n",
    "                list_of_height_peaks_Monoclinic[int(i[0])].append(i[1])\n",
    "    num_samples_Monoclinic +=1"
   ],
   "metadata": {
    "collapsed": false,
    "pycharm": {
     "name": "#%%\n"
    }
   }
  },
  {
   "cell_type": "code",
   "execution_count": 97,
   "outputs": [],
   "source": [],
   "metadata": {
    "collapsed": false,
    "pycharm": {
     "name": "#%%\n"
    }
   }
  },
  {
   "cell_type": "code",
   "execution_count": 98,
   "outputs": [],
   "source": [
    "for i in range(0,172):\n",
    "    j = list_of_height_peaks_Monoclinic[i]\n",
    "    avarange_height_peaks_Monoclinic[i] = round(Average_advanced(j, num_samples_Monoclinic),3)\n"
   ],
   "metadata": {
    "collapsed": false,
    "pycharm": {
     "name": "#%%\n"
    }
   }
  },
  {
   "cell_type": "code",
   "execution_count": 99,
   "outputs": [],
   "source": [
    "#avarange_height_peaks"
   ],
   "metadata": {
    "collapsed": false,
    "pycharm": {
     "name": "#%%\n"
    }
   }
  },
  {
   "cell_type": "code",
   "execution_count": 100,
   "outputs": [
    {
     "data": {
      "text/plain": "<Figure size 1224x432 with 1 Axes>",
      "image/png": "[encoded data removed]"
     },
     "metadata": {
      "needs_background": "light"
     },
     "output_type": "display_data"
    }
   ],
   "source": [
    "plt.figure(figsize=(17,6),)\n",
    "plt.xlabel('2theta', fontsize = 20)\n",
    "\n",
    "plt.ylabel('Intensity', fontsize = 20)\n",
    "plt.title('Avarange_height_of_peaks_Monoclinic', fontsize = 20)\n",
    "plt.bar(range(172), avarange_height_peaks_Monoclinic)\n",
    "plt.savefig(r'C:\\Users\\Admin\\Documents\\Inżynierka\\Wykresy\\Avarange_height_of_peaks_Monoclinic29.png')"
   ],
   "metadata": {
    "collapsed": false,
    "pycharm": {
     "name": "#%%\n"
    }
   }
  },
  {
   "cell_type": "markdown",
   "source": [
    "Średnia wysokość pików dla układu Hexagonal\n"
   ],
   "metadata": {
    "collapsed": false
   }
  },
  {
   "cell_type": "code",
   "execution_count": 101,
   "outputs": [],
   "source": [
    "list_of_height_peaks_Hexagonal = []\n",
    "for i in range(0,172):\n",
    "    list_of_height_peaks_Hexagonal.append([])\n",
    "\n",
    "avarange_height_peaks_Hexagonal = []\n",
    "for i in range(0,172):\n",
    "    avarange_height_peaks_Hexagonal.append(0)\n"
   ],
   "metadata": {
    "collapsed": false,
    "pycharm": {
     "name": "#%%\n"
    }
   }
  },
  {
   "cell_type": "code",
   "execution_count": 102,
   "outputs": [],
   "source": [
    "num_samples_Hexagonal = 0\n",
    "for x in df_xrd_ind:\n",
    "    j = df_xrd['chart'][x]\n",
    "    if df_xrd['y'][x] == 'Hexagonal':\n",
    "        for i in j:\n",
    "            if int(i[0])<=i[0]<int(i[0]+1):\n",
    "                list_of_height_peaks_Hexagonal[int(i[0])].append(i[1])\n",
    "    num_samples_Hexagonal +=1"
   ],
   "metadata": {
    "collapsed": false,
    "pycharm": {
     "name": "#%%\n"
    }
   }
  },
  {
   "cell_type": "code",
   "execution_count": 102,
   "outputs": [],
   "source": [],
   "metadata": {
    "collapsed": false,
    "pycharm": {
     "name": "#%%\n"
    }
   }
  },
  {
   "cell_type": "code",
   "execution_count": 103,
   "outputs": [],
   "source": [
    "for i in range(0,172):\n",
    "    j = list_of_height_peaks_Hexagonal[i]\n",
    "    avarange_height_peaks_Hexagonal[i] = round(Average_advanced(j, num_samples_Hexagonal),3)\n"
   ],
   "metadata": {
    "collapsed": false,
    "pycharm": {
     "name": "#%%\n"
    }
   }
  },
  {
   "cell_type": "code",
   "execution_count": 104,
   "outputs": [],
   "source": [
    "#avarange_height_peaks"
   ],
   "metadata": {
    "collapsed": false,
    "pycharm": {
     "name": "#%%\n"
    }
   }
  },
  {
   "cell_type": "code",
   "execution_count": 105,
   "outputs": [
    {
     "data": {
      "text/plain": "<Figure size 1224x432 with 1 Axes>",
      "image/png": "[encoded data removed]"
     },
     "metadata": {
      "needs_background": "light"
     },
     "output_type": "display_data"
    }
   ],
   "source": [
    "plt.figure(figsize=(17,6),)\n",
    "plt.xlabel('2theta', fontsize = 20)\n",
    "\n",
    "plt.ylabel('Intensity', fontsize = 20)\n",
    "plt.title('Avarange_height_of_peaks_Hexagonal', fontsize = 20)\n",
    "plt.bar(range(172), avarange_height_peaks_Hexagonal)\n",
    "plt.savefig(r'C:\\Users\\Admin\\Documents\\Inżynierka\\Wykresy\\Avarange_height_of_peaks_Hexagonal29.png')"
   ],
   "metadata": {
    "collapsed": false,
    "pycharm": {
     "name": "#%%\n"
    }
   }
  },
  {
   "cell_type": "markdown",
   "source": [
    "Średnia wysokość pików dla układu Cubic\n"
   ],
   "metadata": {
    "collapsed": false
   }
  },
  {
   "cell_type": "code",
   "execution_count": 106,
   "outputs": [],
   "source": [
    "list_of_height_peaks_Cubic = []\n",
    "for i in range(0,172):\n",
    "    list_of_height_peaks_Cubic.append([])\n",
    "\n",
    "avarange_height_peaks_Cubic = []\n",
    "for i in range(0,172):\n",
    "    avarange_height_peaks_Cubic.append(0)\n"
   ],
   "metadata": {
    "collapsed": false,
    "pycharm": {
     "name": "#%%\n"
    }
   }
  },
  {
   "cell_type": "code",
   "execution_count": 107,
   "outputs": [],
   "source": [
    "num_samples_Cubic = 0\n",
    "for x in df_xrd_ind:\n",
    "    j = df_xrd['chart'][x]\n",
    "    if df_xrd['y'][x] == 'Cubic':\n",
    "        for i in j:\n",
    "            if int(i[0])<=i[0]<int(i[0]+1):\n",
    "                list_of_height_peaks_Cubic[int(i[0])].append(i[1])\n",
    "    num_samples_Cubic +=1"
   ],
   "metadata": {
    "collapsed": false,
    "pycharm": {
     "name": "#%%\n"
    }
   }
  },
  {
   "cell_type": "code",
   "execution_count": 107,
   "outputs": [],
   "source": [],
   "metadata": {
    "collapsed": false,
    "pycharm": {
     "name": "#%%\n"
    }
   }
  },
  {
   "cell_type": "code",
   "execution_count": 108,
   "outputs": [],
   "source": [
    "for i in range(0,172):\n",
    "    j = list_of_height_peaks_Cubic[i]\n",
    "    avarange_height_peaks_Cubic[i] = round(Average_advanced(j, num_samples_Cubic),3)\n",
    "\n"
   ],
   "metadata": {
    "collapsed": false,
    "pycharm": {
     "name": "#%%\n"
    }
   }
  },
  {
   "cell_type": "code",
   "execution_count": 109,
   "outputs": [],
   "source": [
    "#avarange_height_peaks"
   ],
   "metadata": {
    "collapsed": false,
    "pycharm": {
     "name": "#%%\n"
    }
   }
  },
  {
   "cell_type": "code",
   "execution_count": 110,
   "outputs": [
    {
     "data": {
      "text/plain": "<Figure size 1224x432 with 1 Axes>",
      "image/png": "[encoded data removed]"
     },
     "metadata": {
      "needs_background": "light"
     },
     "output_type": "display_data"
    }
   ],
   "source": [
    "plt.figure(figsize=(17,6),)\n",
    "plt.xlabel('2theta', fontsize = 20)\n",
    "\n",
    "plt.ylabel('Intensity', fontsize = 20)\n",
    "plt.title('Avarange_height_of_peaks_Cubic', fontsize = 20)\n",
    "plt.bar(range(172), avarange_height_peaks_Cubic)\n",
    "plt.savefig(r'C:\\Users\\Admin\\Documents\\Inżynierka\\Wykresy\\Avarange_height_of_peaks_Cubic29.png')"
   ],
   "metadata": {
    "collapsed": false,
    "pycharm": {
     "name": "#%%\n"
    }
   }
  },
  {
   "cell_type": "markdown",
   "source": [
    "Średnia wysokość pików dla układu Triclinic"
   ],
   "metadata": {
    "collapsed": false
   }
  },
  {
   "cell_type": "code",
   "execution_count": 111,
   "outputs": [],
   "source": [
    "list_of_height_peaks_Triclinic = []\n",
    "for i in range(0,172):\n",
    "    list_of_height_peaks_Triclinic.append([])\n",
    "\n",
    "avarange_height_peaks_Triclinic = []\n",
    "for i in range(0,172):\n",
    "    avarange_height_peaks_Triclinic.append(0)\n"
   ],
   "metadata": {
    "collapsed": false,
    "pycharm": {
     "name": "#%%\n"
    }
   }
  },
  {
   "cell_type": "code",
   "execution_count": 112,
   "outputs": [],
   "source": [
    "num_samples_Triclinic = 0\n",
    "for x in df_xrd_ind:\n",
    "    j = df_xrd['chart'][x]\n",
    "    if df_xrd['y'][x] == 'Triclinic (Anorthic)':\n",
    "        for i in j:\n",
    "            if int(i[0])<=i[0]<int(i[0]+1):\n",
    "                list_of_height_peaks_Triclinic[int(i[0])].append(i[1])\n",
    "    num_samples_Triclinic +=1"
   ],
   "metadata": {
    "collapsed": false,
    "pycharm": {
     "name": "#%%\n"
    }
   }
  },
  {
   "cell_type": "code",
   "execution_count": 112,
   "outputs": [],
   "source": [],
   "metadata": {
    "collapsed": false,
    "pycharm": {
     "name": "#%%\n"
    }
   }
  },
  {
   "cell_type": "code",
   "execution_count": 113,
   "outputs": [],
   "source": [
    "for i in range(0,172):\n",
    "    j = list_of_height_peaks_Triclinic[i]\n",
    "    avarange_height_peaks_Triclinic[i] = round(Average_advanced(j, num_samples_Triclinic),3)\n",
    "\n"
   ],
   "metadata": {
    "collapsed": false,
    "pycharm": {
     "name": "#%%\n"
    }
   }
  },
  {
   "cell_type": "code",
   "execution_count": 114,
   "outputs": [],
   "source": [
    "#avarange_height_peaks"
   ],
   "metadata": {
    "collapsed": false,
    "pycharm": {
     "name": "#%%\n"
    }
   }
  },
  {
   "cell_type": "code",
   "execution_count": 115,
   "outputs": [
    {
     "data": {
      "text/plain": "<Figure size 1224x432 with 1 Axes>",
      "image/png": "[encoded data removed]"
     },
     "metadata": {
      "needs_background": "light"
     },
     "output_type": "display_data"
    }
   ],
   "source": [
    "plt.figure(figsize=(17,6),)\n",
    "plt.xlabel('2theta', fontsize = 20)\n",
    "\n",
    "plt.ylabel('Intensity', fontsize = 20)\n",
    "plt.title('Avarange_height_of_peaks_Triclinic', fontsize = 20)\n",
    "plt.bar(range(172), avarange_height_peaks_Triclinic)\n",
    "plt.savefig(r'C:\\Users\\Admin\\Documents\\Inżynierka\\Wykresy\\Avarange_height_of_peaks_Triclinic10.png')\n"
   ],
   "metadata": {
    "collapsed": false,
    "pycharm": {
     "name": "#%%\n"
    }
   }
  },
  {
   "cell_type": "markdown",
   "source": [
    "Średnia liczba pików"
   ],
   "metadata": {
    "collapsed": false,
    "pycharm": {
     "name": "#%% md\n"
    }
   }
  },
  {
   "cell_type": "code",
   "execution_count": 116,
   "outputs": [],
   "source": [
    "avarage_number_of_reflexes_list = []\n",
    "for i in range(0,172):\n",
    "    avarage_number_of_reflexes_list.append(0)\n",
    "\n"
   ],
   "metadata": {
    "collapsed": false,
    "pycharm": {
     "name": "#%%\n"
    }
   }
  },
  {
   "cell_type": "code",
   "execution_count": 117,
   "outputs": [
    {
     "data": {
      "text/plain": "172"
     },
     "execution_count": 117,
     "metadata": {},
     "output_type": "execute_result"
    }
   ],
   "source": [
    "len(number_of_all_peaks)"
   ],
   "metadata": {
    "collapsed": false,
    "pycharm": {
     "name": "#%%\n"
    }
   }
  },
  {
   "cell_type": "code",
   "execution_count": 118,
   "outputs": [],
   "source": [
    "for i in range(172):\n",
    "    avarage_number_of_reflexes_list[i] = round(number_of_all_peaks[i]/len(number_of_all_peaks),3)"
   ],
   "metadata": {
    "collapsed": false,
    "pycharm": {
     "name": "#%%\n"
    }
   }
  },
  {
   "cell_type": "code",
   "execution_count": 119,
   "outputs": [
    {
     "data": {
      "text/plain": "<Figure size 1224x432 with 1 Axes>",
      "image/png": "[encoded data removed]"
     },
     "metadata": {
      "needs_background": "light"
     },
     "output_type": "display_data"
    }
   ],
   "source": [
    "plt.figure(figsize=(17,6),)\n",
    "plt.xlabel('2theta', fontsize = 20)\n",
    "\n",
    "plt.ylabel('Intensity', fontsize = 20)\n",
    "plt.title('Avarange_number_of_peaks', fontsize = 20)\n",
    "plt.bar(range(172), avarage_number_of_reflexes_list)\n",
    "plt.savefig(r'C:\\Users\\Admin\\Documents\\Inżynierka\\Wykresy\\Avarange_number_of_peaks9.png')\n"
   ],
   "metadata": {
    "collapsed": false,
    "pycharm": {
     "name": "#%%\n"
    }
   }
  },
  {
   "cell_type": "markdown",
   "source": [
    "Średnia liczba pików dla układu Orthorhombic danego kąta\n"
   ],
   "metadata": {
    "collapsed": false,
    "pycharm": {
     "name": "#%% md\n"
    }
   }
  },
  {
   "cell_type": "code",
   "execution_count": 120,
   "outputs": [],
   "source": [
    "avarage_number_of_reflexes_list_Orthorhombic = []\n",
    "for i in range(0,172):\n",
    "    avarage_number_of_reflexes_list_Orthorhombic.append(0)\n"
   ],
   "metadata": {
    "collapsed": false,
    "pycharm": {
     "name": "#%%\n"
    }
   }
  },
  {
   "cell_type": "code",
   "execution_count": 121,
   "outputs": [
    {
     "data": {
      "text/plain": "172"
     },
     "execution_count": 121,
     "metadata": {},
     "output_type": "execute_result"
    }
   ],
   "source": [
    "len(number_of_all_peaks)"
   ],
   "metadata": {
    "collapsed": false,
    "pycharm": {
     "name": "#%%\n"
    }
   }
  },
  {
   "cell_type": "code",
   "execution_count": 122,
   "outputs": [],
   "source": [
    "for i in range(172):\n",
    "    avarage_number_of_reflexes_list_Orthorhombic[i] = round(number_of_Orthorhombic_peaks[i]/len(number_of_Orthorhombic_peaks),3)"
   ],
   "metadata": {
    "collapsed": false,
    "pycharm": {
     "name": "#%%\n"
    }
   }
  },
  {
   "cell_type": "code",
   "execution_count": 123,
   "outputs": [
    {
     "data": {
      "text/plain": "<Figure size 1224x432 with 1 Axes>",
      "image/png": "[encoded data removed]"
     },
     "metadata": {
      "needs_background": "light"
     },
     "output_type": "display_data"
    }
   ],
   "source": [
    "plt.figure(figsize=(17,6),)\n",
    "plt.xlabel('2theta', fontsize = 20)\n",
    "\n",
    "plt.ylabel('Number', fontsize = 20)\n",
    "plt.title('Avarange_number_of_peaks_Orthorhombic', fontsize = 20)\n",
    "plt.bar(range(172), avarage_number_of_reflexes_list_Orthorhombic)\n",
    "plt.savefig(r'C:\\Users\\Admin\\Documents\\Inżynierka\\Wykresy\\Avarange_number_of_peaks_Orthorhombic9.png')"
   ],
   "metadata": {
    "collapsed": false,
    "pycharm": {
     "name": "#%%\n"
    }
   }
  },
  {
   "cell_type": "markdown",
   "source": [
    "Średnia liczba pików dla układu Rhombohedral danego kąta\n"
   ],
   "metadata": {
    "collapsed": false
   }
  },
  {
   "cell_type": "code",
   "execution_count": 124,
   "outputs": [],
   "source": [
    "avarage_number_of_reflexes_list_Rhombohedral = []\n",
    "for i in range(0,172):\n",
    "    avarage_number_of_reflexes_list_Rhombohedral.append(0)\n"
   ],
   "metadata": {
    "collapsed": false,
    "pycharm": {
     "name": "#%%\n"
    }
   }
  },
  {
   "cell_type": "code",
   "execution_count": 125,
   "outputs": [
    {
     "data": {
      "text/plain": "172"
     },
     "execution_count": 125,
     "metadata": {},
     "output_type": "execute_result"
    }
   ],
   "source": [
    "len(number_of_all_peaks)"
   ],
   "metadata": {
    "collapsed": false,
    "pycharm": {
     "name": "#%%\n"
    }
   }
  },
  {
   "cell_type": "code",
   "execution_count": 126,
   "outputs": [],
   "source": [
    "for i in range(172):\n",
    "    avarage_number_of_reflexes_list_Rhombohedral[i] = round(number_of_Rhombohedral_peaks[i]/len(number_of_Orthorhombic_peaks),3)"
   ],
   "metadata": {
    "collapsed": false,
    "pycharm": {
     "name": "#%%\n"
    }
   }
  },
  {
   "cell_type": "code",
   "execution_count": 127,
   "outputs": [
    {
     "data": {
      "text/plain": "<Figure size 1224x432 with 1 Axes>",
      "image/png": "[encoded data removed]"
     },
     "metadata": {
      "needs_background": "light"
     },
     "output_type": "display_data"
    }
   ],
   "source": [
    "plt.figure(figsize=(17,6),)\n",
    "plt.xlabel('2theta', fontsize = 20)\n",
    "\n",
    "plt.ylabel('Number', fontsize = 20)\n",
    "plt.title('Avarange_number_of_peaks_Rhombohedral', fontsize = 20)\n",
    "plt.bar(range(172), avarage_number_of_reflexes_list_Rhombohedral)\n",
    "plt.savefig(r'C:\\Users\\Admin\\Documents\\Inżynierka\\Wykresy\\Avarange_number_of_peaks_Rhombohedral9.png')"
   ],
   "metadata": {
    "collapsed": false,
    "pycharm": {
     "name": "#%%\n"
    }
   }
  },
  {
   "cell_type": "markdown",
   "source": [
    "Średnia liczba pików dla układu Tetragonal danego kąta"
   ],
   "metadata": {
    "collapsed": false
   }
  },
  {
   "cell_type": "code",
   "execution_count": 128,
   "outputs": [],
   "source": [
    "avarage_number_of_reflexes_list_Tetragonal = []\n",
    "for i in range(0,172):\n",
    "    avarage_number_of_reflexes_list_Tetragonal.append(0)\n"
   ],
   "metadata": {
    "collapsed": false,
    "pycharm": {
     "name": "#%%\n"
    }
   }
  },
  {
   "cell_type": "code",
   "execution_count": 129,
   "outputs": [
    {
     "data": {
      "text/plain": "172"
     },
     "execution_count": 129,
     "metadata": {},
     "output_type": "execute_result"
    }
   ],
   "source": [
    "len(number_of_all_peaks)"
   ],
   "metadata": {
    "collapsed": false,
    "pycharm": {
     "name": "#%%\n"
    }
   }
  },
  {
   "cell_type": "code",
   "execution_count": 130,
   "outputs": [],
   "source": [
    "for i in range(172):\n",
    "    avarage_number_of_reflexes_list_Tetragonal[i] = round(number_of_Tetragonal_peaks[i]/len(number_of_Tetragonal_peaks),3)"
   ],
   "metadata": {
    "collapsed": false,
    "pycharm": {
     "name": "#%%\n"
    }
   }
  },
  {
   "cell_type": "code",
   "execution_count": 131,
   "outputs": [
    {
     "data": {
      "text/plain": "<Figure size 1224x432 with 1 Axes>",
      "image/png": "[encoded data removed]"
     },
     "metadata": {
      "needs_background": "light"
     },
     "output_type": "display_data"
    }
   ],
   "source": [
    "plt.figure(figsize=(17,6),)\n",
    "plt.xlabel('2theta', fontsize = 20)\n",
    "\n",
    "plt.ylabel('Number', fontsize = 20)\n",
    "plt.title('Avarange_number_of_peaks_Tetragonal', fontsize = 20)\n",
    "plt.bar(range(172), avarage_number_of_reflexes_list_Tetragonal)\n",
    "plt.savefig(r'C:\\Users\\Admin\\Documents\\Inżynierka\\Wykresy\\Avarange_number_of_peaks_Tetragonal9.png')"
   ],
   "metadata": {
    "collapsed": false,
    "pycharm": {
     "name": "#%%\n"
    }
   }
  },
  {
   "cell_type": "markdown",
   "source": [
    "Średnia liczba pików dla układu Monoclinic danego kąta"
   ],
   "metadata": {
    "collapsed": false
   }
  },
  {
   "cell_type": "code",
   "execution_count": 132,
   "outputs": [],
   "source": [
    "avarage_number_of_reflexes_list_Monoclinic = []\n",
    "for i in range(0,172):\n",
    "    avarage_number_of_reflexes_list_Monoclinic.append(0)\n"
   ],
   "metadata": {
    "collapsed": false,
    "pycharm": {
     "name": "#%%\n"
    }
   }
  },
  {
   "cell_type": "code",
   "execution_count": 133,
   "outputs": [
    {
     "data": {
      "text/plain": "172"
     },
     "execution_count": 133,
     "metadata": {},
     "output_type": "execute_result"
    }
   ],
   "source": [
    "len(number_of_all_peaks)"
   ],
   "metadata": {
    "collapsed": false,
    "pycharm": {
     "name": "#%%\n"
    }
   }
  },
  {
   "cell_type": "code",
   "execution_count": 134,
   "outputs": [],
   "source": [
    "for i in range(172):\n",
    "    avarage_number_of_reflexes_list_Monoclinic[i] = round(number_of_Monoclinic_peaks[i]/len(number_of_Monoclinic_peaks),3)"
   ],
   "metadata": {
    "collapsed": false,
    "pycharm": {
     "name": "#%%\n"
    }
   }
  },
  {
   "cell_type": "code",
   "execution_count": 135,
   "outputs": [
    {
     "data": {
      "text/plain": "<Figure size 1224x432 with 1 Axes>",
      "image/png": "[encoded data removed]"
     },
     "metadata": {
      "needs_background": "light"
     },
     "output_type": "display_data"
    }
   ],
   "source": [
    "plt.figure(figsize=(17,6),)\n",
    "plt.xlabel('2theta', fontsize = 20)\n",
    "\n",
    "plt.ylabel('Number', fontsize = 20)\n",
    "plt.title('Avarange_number_of_peaks_Monoclinic', fontsize = 20)\n",
    "plt.bar(range(172), avarage_number_of_reflexes_list_Monoclinic)\n",
    "plt.savefig(r'C:\\Users\\Admin\\Documents\\Inżynierka\\Wykresy\\Avarange_number_of_peaks_Monoclinic9.png')"
   ],
   "metadata": {
    "collapsed": false,
    "pycharm": {
     "name": "#%%\n"
    }
   }
  },
  {
   "cell_type": "markdown",
   "source": [
    "Średnia liczba pików dla układu Hexagonal danego kąta"
   ],
   "metadata": {
    "collapsed": false
   }
  },
  {
   "cell_type": "code",
   "execution_count": 136,
   "outputs": [],
   "source": [
    "avarage_number_of_reflexes_list_Hexagonal = []\n",
    "for i in range(0,172):\n",
    "    avarage_number_of_reflexes_list_Hexagonal.append(0)\n"
   ],
   "metadata": {
    "collapsed": false,
    "pycharm": {
     "name": "#%%\n"
    }
   }
  },
  {
   "cell_type": "code",
   "execution_count": 137,
   "outputs": [
    {
     "data": {
      "text/plain": "172"
     },
     "execution_count": 137,
     "metadata": {},
     "output_type": "execute_result"
    }
   ],
   "source": [
    "len(number_of_all_peaks)"
   ],
   "metadata": {
    "collapsed": false,
    "pycharm": {
     "name": "#%%\n"
    }
   }
  },
  {
   "cell_type": "code",
   "execution_count": 138,
   "outputs": [],
   "source": [
    "for i in range(172):\n",
    "    avarage_number_of_reflexes_list_Hexagonal[i] = round(number_of_Hexagonal_peaks[i]/len(number_of_Hexagonal_peaks),3)"
   ],
   "metadata": {
    "collapsed": false,
    "pycharm": {
     "name": "#%%\n"
    }
   }
  },
  {
   "cell_type": "code",
   "execution_count": 139,
   "outputs": [
    {
     "data": {
      "text/plain": "<Figure size 1224x432 with 1 Axes>",
      "image/png": "[encoded data removed]"
     },
     "metadata": {
      "needs_background": "light"
     },
     "output_type": "display_data"
    }
   ],
   "source": [
    "plt.figure(figsize=(17,6),)\n",
    "plt.xlabel('2theta', fontsize = 20)\n",
    "\n",
    "plt.ylabel('Number', fontsize = 20)\n",
    "plt.title('Avarange_number_of_peaks_Hexagonal', fontsize = 20)\n",
    "plt.bar(range(172), avarage_number_of_reflexes_list_Hexagonal)\n",
    "plt.savefig(r'C:\\Users\\Admin\\Documents\\Inżynierka\\Wykresy\\Avarange_number_of_peaks_Hexagonal9.png')"
   ],
   "metadata": {
    "collapsed": false,
    "pycharm": {
     "name": "#%%\n"
    }
   }
  },
  {
   "cell_type": "markdown",
   "source": [
    "Średnia liczba pików dla układu Cubic dla danego kąta"
   ],
   "metadata": {
    "collapsed": false
   }
  },
  {
   "cell_type": "code",
   "execution_count": 140,
   "outputs": [],
   "source": [
    "avarage_number_of_reflexes_list_Cubic = []\n",
    "for i in range(0,172):\n",
    "    avarage_number_of_reflexes_list_Cubic.append(0)\n"
   ],
   "metadata": {
    "collapsed": false,
    "pycharm": {
     "name": "#%%\n"
    }
   }
  },
  {
   "cell_type": "code",
   "execution_count": 141,
   "outputs": [
    {
     "data": {
      "text/plain": "172"
     },
     "execution_count": 141,
     "metadata": {},
     "output_type": "execute_result"
    }
   ],
   "source": [
    "len(number_of_all_peaks)"
   ],
   "metadata": {
    "collapsed": false,
    "pycharm": {
     "name": "#%%\n"
    }
   }
  },
  {
   "cell_type": "code",
   "execution_count": 142,
   "outputs": [],
   "source": [
    "for i in range(172):\n",
    "    avarage_number_of_reflexes_list_Cubic[i] = round(number_of_Cubic_peaks[i]/len(number_of_Cubic_peaks),3)"
   ],
   "metadata": {
    "collapsed": false,
    "pycharm": {
     "name": "#%%\n"
    }
   }
  },
  {
   "cell_type": "code",
   "execution_count": 143,
   "outputs": [
    {
     "data": {
      "text/plain": "<Figure size 1224x432 with 1 Axes>",
      "image/png": "[encoded data removed]"
     },
     "metadata": {
      "needs_background": "light"
     },
     "output_type": "display_data"
    }
   ],
   "source": [
    "plt.figure(figsize=(17,6),)\n",
    "plt.xlabel('2theta', fontsize = 20)\n",
    "\n",
    "plt.ylabel('Number', fontsize = 20)\n",
    "plt.title('Avarange_number_of_peaks_Cubic', fontsize = 20)\n",
    "plt.bar(range(172), avarage_number_of_reflexes_list_Cubic)\n",
    "plt.savefig(r'C:\\Users\\Admin\\Documents\\Inżynierka\\Wykresy\\Avarange_number_of_peaks_Cubic9.png')"
   ],
   "metadata": {
    "collapsed": false,
    "pycharm": {
     "name": "#%%\n"
    }
   }
  },
  {
   "cell_type": "markdown",
   "source": [
    "Średnia liczba pików dla układu Triclinic dla danego kąta"
   ],
   "metadata": {
    "collapsed": false
   }
  },
  {
   "cell_type": "code",
   "execution_count": 144,
   "outputs": [],
   "source": [
    "avarage_number_of_reflexes_list_Triclinic = []\n",
    "for i in range(0,172):\n",
    "    avarage_number_of_reflexes_list_Triclinic.append(0)\n"
   ],
   "metadata": {
    "collapsed": false,
    "pycharm": {
     "name": "#%%\n"
    }
   }
  },
  {
   "cell_type": "code",
   "execution_count": 145,
   "outputs": [
    {
     "data": {
      "text/plain": "172"
     },
     "execution_count": 145,
     "metadata": {},
     "output_type": "execute_result"
    }
   ],
   "source": [
    "len(number_of_all_peaks)"
   ],
   "metadata": {
    "collapsed": false,
    "pycharm": {
     "name": "#%%\n"
    }
   }
  },
  {
   "cell_type": "code",
   "execution_count": 146,
   "outputs": [],
   "source": [
    "for i in range(172):\n",
    "    avarage_number_of_reflexes_list_Triclinic[i] = round(number_of_Triclinic_peaks[i]/len(number_of_Triclinic_peaks),3)"
   ],
   "metadata": {
    "collapsed": false,
    "pycharm": {
     "name": "#%%\n"
    }
   }
  },
  {
   "cell_type": "code",
   "execution_count": 147,
   "outputs": [
    {
     "data": {
      "text/plain": "<Figure size 1224x432 with 1 Axes>",
      "image/png": "[encoded data removed]"
     },
     "metadata": {
      "needs_background": "light"
     },
     "output_type": "display_data"
    }
   ],
   "source": [
    "plt.figure(figsize=(17,6),)\n",
    "plt.xlabel('2theta', fontsize = 20)\n",
    "\n",
    "plt.ylabel('Number', fontsize = 20)\n",
    "plt.title('Avarange_number_of_peaks_Triclinic', fontsize = 20)\n",
    "plt.bar(range(172), avarage_number_of_reflexes_list_Triclinic)\n",
    "plt.savefig(r'C:\\Users\\Admin\\Documents\\Inżynierka\\Wykresy\\Avarange_number_of_peaks_Triclinic9.png')\n"
   ],
   "metadata": {
    "collapsed": false,
    "pycharm": {
     "name": "#%%\n"
    }
   }
  },
  {
   "cell_type": "code",
   "execution_count": 147,
   "outputs": [],
   "source": [],
   "metadata": {
    "collapsed": false,
    "pycharm": {
     "name": "#%%\n"
    }
   }
  },
  {
   "cell_type": "code",
   "execution_count": 147,
   "outputs": [],
   "source": [],
   "metadata": {
    "collapsed": false,
    "pycharm": {
     "name": "#%%"
    }
   }
  }
 ],
 "metadata": {
  "kernelspec": {
   "display_name": "Python 3",
   "language": "python",
   "name": "python3"
  },
  "language_info": {
   "codemirror_mode": {
    "name": "ipython",
    "version": 2
   },
   "file_extension": ".py",
   "mimetype": "text/x-python",
   "name": "python",
   "nbconvert_exporter": "python",
   "pygments_lexer": "ipython2",
   "version": "2.7.6"
  }
 },
 "nbformat": 4,
 "nbformat_minor": 0
}